{
 "cells": [
  {
   "cell_type": "code",
   "execution_count": 104,
   "metadata": {},
   "outputs": [],
   "source": [
    "import pandas as pd\n",
    "import matplotlib.pyplot as plt"
   ]
  },
  {
   "cell_type": "code",
   "execution_count": 3,
   "metadata": {},
   "outputs": [],
   "source": [
    "df = uber_dataset = pd.read_csv(\"phoenix_uber_trips.csv\")"
   ]
  },
  {
   "cell_type": "code",
   "execution_count": 163,
   "metadata": {},
   "outputs": [
    {
     "name": "stdout",
     "output_type": "stream",
     "text": [
      "<class 'pandas.core.frame.DataFrame'>\n",
      "RangeIndex: 3104 entries, 0 to 3103\n",
      "Data columns (total 25 columns):\n",
      "Driver Name                    3104 non-null object\n",
      "Phone Number                   0 non-null float64\n",
      "Email                          3104 non-null object\n",
      "Date/Time                      3104 non-null object\n",
      "Trip ID                        3104 non-null object\n",
      "Type                           3104 non-null object\n",
      "Base Fare                      2929 non-null float64\n",
      "Distance                       2925 non-null float64\n",
      "Time                           2929 non-null float64\n",
      "Min Fare Supplement            787 non-null float64\n",
      "Cancellation                   133 non-null float64\n",
      "Tip                            855 non-null float64\n",
      "Surge                          551 non-null float64\n",
      "Diamond Reward                 1470 non-null float64\n",
      "Wait Time                      576 non-null float64\n",
      "Promotions                     3104 non-null object\n",
      "Total                          3104 non-null float64\n",
      "Long Pickup Fee                26 non-null float64\n",
      "Optional Insurance             476 non-null float64\n",
      "Consecutive Trips Promotion    0 non-null float64\n",
      "Share Adjustment               7 non-null float64\n",
      "Quest Promotion                3104 non-null object\n",
      "Fare Adjustment                3104 non-null object\n",
      "Platinum Reward                432 non-null float64\n",
      "Cleaning Repairs               3104 non-null object\n",
      "dtypes: float64(16), object(9)\n",
      "memory usage: 606.4+ KB\n"
     ]
    }
   ],
   "source": [
    "uber_dataset.info()"
   ]
  },
  {
   "cell_type": "code",
   "execution_count": null,
   "metadata": {},
   "outputs": [],
   "source": [
    "print(\"min fare : {0}\".format(df[\"Base Fare\"].min()))\n",
    "print(\"max fare : {0}\".format(df[\"Base Fare\"].max()))\n",
    "print(\"fare range : {0}\".format(df[\"Base Fare\"].max() - df[\"Base Fare\"].min()))\n",
    "print(\"25 % : {0}\".format(df[\"Base Fare\"].quantile(.25)))\n",
    "print(\"70 % : {0}\".format(df[\"Base Fare\"].quantile(.70)))\n",
    "print(\"variance fare: {0}\".format(df[\"Base Fare\"].var()))\n",
    "print(\"sd fare : {0}\".format(df[\"Base Fare\"].std()))"
   ]
  },
  {
   "cell_type": "code",
   "execution_count": 57,
   "metadata": {},
   "outputs": [
    {
     "data": {
      "text/plain": [
       "count       133\n",
       "unique        4\n",
       "top       $3.75\n",
       "freq        117\n",
       "Name: Cancellation, dtype: object"
      ]
     },
     "execution_count": 57,
     "metadata": {},
     "output_type": "execute_result"
    }
   ],
   "source": [
    "df.Cancellation.describe()"
   ]
  },
  {
   "cell_type": "code",
   "execution_count": 5,
   "metadata": {},
   "outputs": [
    {
     "data": {
      "text/html": [
       "<div>\n",
       "<style scoped>\n",
       "    .dataframe tbody tr th:only-of-type {\n",
       "        vertical-align: middle;\n",
       "    }\n",
       "\n",
       "    .dataframe tbody tr th {\n",
       "        vertical-align: top;\n",
       "    }\n",
       "\n",
       "    .dataframe thead th {\n",
       "        text-align: right;\n",
       "    }\n",
       "</style>\n",
       "<table border=\"1\" class=\"dataframe\">\n",
       "  <thead>\n",
       "    <tr style=\"text-align: right;\">\n",
       "      <th></th>\n",
       "      <th>Driver Name</th>\n",
       "      <th>Phone Number</th>\n",
       "      <th>Email</th>\n",
       "      <th>Date/Time</th>\n",
       "      <th>Trip ID</th>\n",
       "      <th>Type</th>\n",
       "      <th>Base Fare</th>\n",
       "      <th>Distance</th>\n",
       "      <th>Time</th>\n",
       "      <th>Min Fare Supplement</th>\n",
       "      <th>...</th>\n",
       "      <th>Promotions</th>\n",
       "      <th>Total</th>\n",
       "      <th>Long Pickup Fee</th>\n",
       "      <th>Optional Insurance</th>\n",
       "      <th>Consecutive Trips Promotion</th>\n",
       "      <th>Share Adjustment</th>\n",
       "      <th>Quest Promotion</th>\n",
       "      <th>Fare Adjustment</th>\n",
       "      <th>Platinum Reward</th>\n",
       "      <th>Cleaning Repairs</th>\n",
       "    </tr>\n",
       "  </thead>\n",
       "  <tbody>\n",
       "    <tr>\n",
       "      <td>0</td>\n",
       "      <td>John Doe</td>\n",
       "      <td>NaN</td>\n",
       "      <td>jd@jd.com</td>\n",
       "      <td>Thursday, April 18, 2019 10:24 PM</td>\n",
       "      <td>9bce9679-2755-4c90-9689-f2de69c8f817</td>\n",
       "      <td>UberX</td>\n",
       "      <td>$0.30</td>\n",
       "      <td>$0.97</td>\n",
       "      <td>$0.68</td>\n",
       "      <td>$0.68</td>\n",
       "      <td>...</td>\n",
       "      <td>NaN</td>\n",
       "      <td>$2.73</td>\n",
       "      <td>NaN</td>\n",
       "      <td>NaN</td>\n",
       "      <td>NaN</td>\n",
       "      <td>NaN</td>\n",
       "      <td>NaN</td>\n",
       "      <td>NaN</td>\n",
       "      <td>NaN</td>\n",
       "      <td>NaN</td>\n",
       "    </tr>\n",
       "    <tr>\n",
       "      <td>1</td>\n",
       "      <td>John Doe</td>\n",
       "      <td>NaN</td>\n",
       "      <td>jd@jd.com</td>\n",
       "      <td>Thursday, April 18, 2019 9:48 PM</td>\n",
       "      <td>bb83ec2b-fd4c-457d-ae92-0a216624d85b</td>\n",
       "      <td>UberX</td>\n",
       "      <td>$0.30</td>\n",
       "      <td>$4.10</td>\n",
       "      <td>$2.09</td>\n",
       "      <td>NaN</td>\n",
       "      <td>...</td>\n",
       "      <td>NaN</td>\n",
       "      <td>$9.86</td>\n",
       "      <td>NaN</td>\n",
       "      <td>NaN</td>\n",
       "      <td>NaN</td>\n",
       "      <td>NaN</td>\n",
       "      <td>NaN</td>\n",
       "      <td>NaN</td>\n",
       "      <td>NaN</td>\n",
       "      <td>NaN</td>\n",
       "    </tr>\n",
       "    <tr>\n",
       "      <td>2</td>\n",
       "      <td>John Doe</td>\n",
       "      <td>NaN</td>\n",
       "      <td>jd@jd.com</td>\n",
       "      <td>Friday, April 19, 2019 8:39 PM</td>\n",
       "      <td>42450298-7f34-4f5b-8283-3415fe7f15a0</td>\n",
       "      <td>UberX</td>\n",
       "      <td>$0.30</td>\n",
       "      <td>$4.40</td>\n",
       "      <td>$1.79</td>\n",
       "      <td>NaN</td>\n",
       "      <td>...</td>\n",
       "      <td>NaN</td>\n",
       "      <td>$6.87</td>\n",
       "      <td>NaN</td>\n",
       "      <td>NaN</td>\n",
       "      <td>NaN</td>\n",
       "      <td>NaN</td>\n",
       "      <td>NaN</td>\n",
       "      <td>NaN</td>\n",
       "      <td>NaN</td>\n",
       "      <td>NaN</td>\n",
       "    </tr>\n",
       "    <tr>\n",
       "      <td>3</td>\n",
       "      <td>John Doe</td>\n",
       "      <td>NaN</td>\n",
       "      <td>jd@jd.com</td>\n",
       "      <td>Friday, April 19, 2019 10:50 PM</td>\n",
       "      <td>6d5371a9-806f-4949-b506-edfffd985ff6</td>\n",
       "      <td>UberX</td>\n",
       "      <td>$0.30</td>\n",
       "      <td>$1.11</td>\n",
       "      <td>$0.60</td>\n",
       "      <td>$0.62</td>\n",
       "      <td>...</td>\n",
       "      <td>NaN</td>\n",
       "      <td>$2.97</td>\n",
       "      <td>NaN</td>\n",
       "      <td>NaN</td>\n",
       "      <td>NaN</td>\n",
       "      <td>NaN</td>\n",
       "      <td>NaN</td>\n",
       "      <td>NaN</td>\n",
       "      <td>NaN</td>\n",
       "      <td>NaN</td>\n",
       "    </tr>\n",
       "    <tr>\n",
       "      <td>4</td>\n",
       "      <td>John Doe</td>\n",
       "      <td>NaN</td>\n",
       "      <td>jd@jd.com</td>\n",
       "      <td>Wednesday, April 17, 2019 8:08 PM</td>\n",
       "      <td>aaa4e703-53af-4b54-ae35-314684a1e330</td>\n",
       "      <td>UberX</td>\n",
       "      <td>$0.30</td>\n",
       "      <td>$1.10</td>\n",
       "      <td>$0.69</td>\n",
       "      <td>$0.54</td>\n",
       "      <td>...</td>\n",
       "      <td>NaN</td>\n",
       "      <td>$7.74</td>\n",
       "      <td>NaN</td>\n",
       "      <td>NaN</td>\n",
       "      <td>NaN</td>\n",
       "      <td>NaN</td>\n",
       "      <td>NaN</td>\n",
       "      <td>NaN</td>\n",
       "      <td>NaN</td>\n",
       "      <td>NaN</td>\n",
       "    </tr>\n",
       "  </tbody>\n",
       "</table>\n",
       "<p>5 rows × 25 columns</p>\n",
       "</div>"
      ],
      "text/plain": [
       "  Driver Name  Phone Number      Email                          Date/Time  \\\n",
       "0    John Doe           NaN  jd@jd.com  Thursday, April 18, 2019 10:24 PM   \n",
       "1    John Doe           NaN  jd@jd.com   Thursday, April 18, 2019 9:48 PM   \n",
       "2    John Doe           NaN  jd@jd.com     Friday, April 19, 2019 8:39 PM   \n",
       "3    John Doe           NaN  jd@jd.com    Friday, April 19, 2019 10:50 PM   \n",
       "4    John Doe           NaN  jd@jd.com  Wednesday, April 17, 2019 8:08 PM   \n",
       "\n",
       "                                Trip ID   Type Base Fare Distance   Time  \\\n",
       "0  9bce9679-2755-4c90-9689-f2de69c8f817  UberX     $0.30    $0.97  $0.68   \n",
       "1  bb83ec2b-fd4c-457d-ae92-0a216624d85b  UberX     $0.30    $4.10  $2.09   \n",
       "2  42450298-7f34-4f5b-8283-3415fe7f15a0  UberX     $0.30    $4.40  $1.79   \n",
       "3  6d5371a9-806f-4949-b506-edfffd985ff6  UberX     $0.30    $1.11  $0.60   \n",
       "4  aaa4e703-53af-4b54-ae35-314684a1e330  UberX     $0.30    $1.10  $0.69   \n",
       "\n",
       "  Min Fare Supplement  ... Promotions  Total Long Pickup Fee  \\\n",
       "0               $0.68  ...        NaN  $2.73             NaN   \n",
       "1                 NaN  ...        NaN  $9.86             NaN   \n",
       "2                 NaN  ...        NaN  $6.87             NaN   \n",
       "3               $0.62  ...        NaN  $2.97             NaN   \n",
       "4               $0.54  ...        NaN  $7.74             NaN   \n",
       "\n",
       "  Optional Insurance Consecutive Trips Promotion  Share Adjustment  \\\n",
       "0                NaN                         NaN               NaN   \n",
       "1                NaN                         NaN               NaN   \n",
       "2                NaN                         NaN               NaN   \n",
       "3                NaN                         NaN               NaN   \n",
       "4                NaN                         NaN               NaN   \n",
       "\n",
       "  Quest Promotion Fare Adjustment Platinum Reward  Cleaning Repairs  \n",
       "0             NaN             NaN             NaN               NaN  \n",
       "1             NaN             NaN             NaN               NaN  \n",
       "2             NaN             NaN             NaN               NaN  \n",
       "3             NaN             NaN             NaN               NaN  \n",
       "4             NaN             NaN             NaN               NaN  \n",
       "\n",
       "[5 rows x 25 columns]"
      ]
     },
     "execution_count": 5,
     "metadata": {},
     "output_type": "execute_result"
    }
   ],
   "source": [
    "uber_dataset.head()"
   ]
  },
  {
   "cell_type": "code",
   "execution_count": 6,
   "metadata": {},
   "outputs": [
    {
     "data": {
      "text/html": [
       "<div>\n",
       "<style scoped>\n",
       "    .dataframe tbody tr th:only-of-type {\n",
       "        vertical-align: middle;\n",
       "    }\n",
       "\n",
       "    .dataframe tbody tr th {\n",
       "        vertical-align: top;\n",
       "    }\n",
       "\n",
       "    .dataframe thead th {\n",
       "        text-align: right;\n",
       "    }\n",
       "</style>\n",
       "<table border=\"1\" class=\"dataframe\">\n",
       "  <thead>\n",
       "    <tr style=\"text-align: right;\">\n",
       "      <th></th>\n",
       "      <th>Date/Time</th>\n",
       "      <th>Type</th>\n",
       "      <th>Base Fare</th>\n",
       "      <th>Distance</th>\n",
       "      <th>Time</th>\n",
       "      <th>Min Fare Supplement</th>\n",
       "      <th>Cancellation</th>\n",
       "      <th>Tip</th>\n",
       "      <th>Surge</th>\n",
       "      <th>Diamond Reward</th>\n",
       "      <th>...</th>\n",
       "      <th>Promotions</th>\n",
       "      <th>Total</th>\n",
       "      <th>Long Pickup Fee</th>\n",
       "      <th>Optional Insurance</th>\n",
       "      <th>Consecutive Trips Promotion</th>\n",
       "      <th>Share Adjustment</th>\n",
       "      <th>Quest Promotion</th>\n",
       "      <th>Fare Adjustment</th>\n",
       "      <th>Platinum Reward</th>\n",
       "      <th>Cleaning Repairs</th>\n",
       "    </tr>\n",
       "  </thead>\n",
       "  <tbody>\n",
       "    <tr>\n",
       "      <td>0</td>\n",
       "      <td>Thursday, April 18, 2019 10:24 PM</td>\n",
       "      <td>UberX</td>\n",
       "      <td>$0.30</td>\n",
       "      <td>$0.97</td>\n",
       "      <td>$0.68</td>\n",
       "      <td>$0.68</td>\n",
       "      <td>NaN</td>\n",
       "      <td>NaN</td>\n",
       "      <td>NaN</td>\n",
       "      <td>$0.10</td>\n",
       "      <td>...</td>\n",
       "      <td>NaN</td>\n",
       "      <td>$2.73</td>\n",
       "      <td>NaN</td>\n",
       "      <td>NaN</td>\n",
       "      <td>NaN</td>\n",
       "      <td>NaN</td>\n",
       "      <td>NaN</td>\n",
       "      <td>NaN</td>\n",
       "      <td>NaN</td>\n",
       "      <td>NaN</td>\n",
       "    </tr>\n",
       "    <tr>\n",
       "      <td>1</td>\n",
       "      <td>Thursday, April 18, 2019 9:48 PM</td>\n",
       "      <td>UberX</td>\n",
       "      <td>$0.30</td>\n",
       "      <td>$4.10</td>\n",
       "      <td>$2.09</td>\n",
       "      <td>NaN</td>\n",
       "      <td>NaN</td>\n",
       "      <td>$3.00</td>\n",
       "      <td>NaN</td>\n",
       "      <td>$0.37</td>\n",
       "      <td>...</td>\n",
       "      <td>NaN</td>\n",
       "      <td>$9.86</td>\n",
       "      <td>NaN</td>\n",
       "      <td>NaN</td>\n",
       "      <td>NaN</td>\n",
       "      <td>NaN</td>\n",
       "      <td>NaN</td>\n",
       "      <td>NaN</td>\n",
       "      <td>NaN</td>\n",
       "      <td>NaN</td>\n",
       "    </tr>\n",
       "    <tr>\n",
       "      <td>2</td>\n",
       "      <td>Friday, April 19, 2019 8:39 PM</td>\n",
       "      <td>UberX</td>\n",
       "      <td>$0.30</td>\n",
       "      <td>$4.40</td>\n",
       "      <td>$1.79</td>\n",
       "      <td>NaN</td>\n",
       "      <td>NaN</td>\n",
       "      <td>NaN</td>\n",
       "      <td>NaN</td>\n",
       "      <td>$0.38</td>\n",
       "      <td>...</td>\n",
       "      <td>NaN</td>\n",
       "      <td>$6.87</td>\n",
       "      <td>NaN</td>\n",
       "      <td>NaN</td>\n",
       "      <td>NaN</td>\n",
       "      <td>NaN</td>\n",
       "      <td>NaN</td>\n",
       "      <td>NaN</td>\n",
       "      <td>NaN</td>\n",
       "      <td>NaN</td>\n",
       "    </tr>\n",
       "    <tr>\n",
       "      <td>3</td>\n",
       "      <td>Friday, April 19, 2019 10:50 PM</td>\n",
       "      <td>UberX</td>\n",
       "      <td>$0.30</td>\n",
       "      <td>$1.11</td>\n",
       "      <td>$0.60</td>\n",
       "      <td>$0.62</td>\n",
       "      <td>NaN</td>\n",
       "      <td>NaN</td>\n",
       "      <td>NaN</td>\n",
       "      <td>$0.11</td>\n",
       "      <td>...</td>\n",
       "      <td>NaN</td>\n",
       "      <td>$2.97</td>\n",
       "      <td>NaN</td>\n",
       "      <td>NaN</td>\n",
       "      <td>NaN</td>\n",
       "      <td>NaN</td>\n",
       "      <td>NaN</td>\n",
       "      <td>NaN</td>\n",
       "      <td>NaN</td>\n",
       "      <td>NaN</td>\n",
       "    </tr>\n",
       "    <tr>\n",
       "      <td>4</td>\n",
       "      <td>Wednesday, April 17, 2019 8:08 PM</td>\n",
       "      <td>UberX</td>\n",
       "      <td>$0.30</td>\n",
       "      <td>$1.10</td>\n",
       "      <td>$0.69</td>\n",
       "      <td>$0.54</td>\n",
       "      <td>NaN</td>\n",
       "      <td>$5.00</td>\n",
       "      <td>NaN</td>\n",
       "      <td>$0.11</td>\n",
       "      <td>...</td>\n",
       "      <td>NaN</td>\n",
       "      <td>$7.74</td>\n",
       "      <td>NaN</td>\n",
       "      <td>NaN</td>\n",
       "      <td>NaN</td>\n",
       "      <td>NaN</td>\n",
       "      <td>NaN</td>\n",
       "      <td>NaN</td>\n",
       "      <td>NaN</td>\n",
       "      <td>NaN</td>\n",
       "    </tr>\n",
       "    <tr>\n",
       "      <td>...</td>\n",
       "      <td>...</td>\n",
       "      <td>...</td>\n",
       "      <td>...</td>\n",
       "      <td>...</td>\n",
       "      <td>...</td>\n",
       "      <td>...</td>\n",
       "      <td>...</td>\n",
       "      <td>...</td>\n",
       "      <td>...</td>\n",
       "      <td>...</td>\n",
       "      <td>...</td>\n",
       "      <td>...</td>\n",
       "      <td>...</td>\n",
       "      <td>...</td>\n",
       "      <td>...</td>\n",
       "      <td>...</td>\n",
       "      <td>...</td>\n",
       "      <td>...</td>\n",
       "      <td>...</td>\n",
       "      <td>...</td>\n",
       "      <td>...</td>\n",
       "    </tr>\n",
       "    <tr>\n",
       "      <td>3099</td>\n",
       "      <td>Saturday, September 22, 2018 6:28 PM</td>\n",
       "      <td>UberX</td>\n",
       "      <td>$0.30</td>\n",
       "      <td>$10.95</td>\n",
       "      <td>$1.24</td>\n",
       "      <td>NaN</td>\n",
       "      <td>NaN</td>\n",
       "      <td>NaN</td>\n",
       "      <td>NaN</td>\n",
       "      <td>NaN</td>\n",
       "      <td>...</td>\n",
       "      <td>NaN</td>\n",
       "      <td>$12.49</td>\n",
       "      <td>NaN</td>\n",
       "      <td>NaN</td>\n",
       "      <td>NaN</td>\n",
       "      <td>NaN</td>\n",
       "      <td>NaN</td>\n",
       "      <td>NaN</td>\n",
       "      <td>NaN</td>\n",
       "      <td>NaN</td>\n",
       "    </tr>\n",
       "    <tr>\n",
       "      <td>3100</td>\n",
       "      <td>Monday, September 24, 2018 5:32 PM</td>\n",
       "      <td>UberX</td>\n",
       "      <td>$0.30</td>\n",
       "      <td>$0.92</td>\n",
       "      <td>$0.39</td>\n",
       "      <td>$1.01</td>\n",
       "      <td>NaN</td>\n",
       "      <td>$1.00</td>\n",
       "      <td>$3.25</td>\n",
       "      <td>NaN</td>\n",
       "      <td>...</td>\n",
       "      <td>NaN</td>\n",
       "      <td>$6.87</td>\n",
       "      <td>NaN</td>\n",
       "      <td>NaN</td>\n",
       "      <td>NaN</td>\n",
       "      <td>NaN</td>\n",
       "      <td>NaN</td>\n",
       "      <td>NaN</td>\n",
       "      <td>NaN</td>\n",
       "      <td>NaN</td>\n",
       "    </tr>\n",
       "    <tr>\n",
       "      <td>3101</td>\n",
       "      <td>Saturday, September 22, 2018 6:48 PM</td>\n",
       "      <td>UberX</td>\n",
       "      <td>$0.30</td>\n",
       "      <td>$17.39</td>\n",
       "      <td>$1.95</td>\n",
       "      <td>NaN</td>\n",
       "      <td>NaN</td>\n",
       "      <td>NaN</td>\n",
       "      <td>$3.25</td>\n",
       "      <td>NaN</td>\n",
       "      <td>...</td>\n",
       "      <td>NaN</td>\n",
       "      <td>$22.89</td>\n",
       "      <td>NaN</td>\n",
       "      <td>NaN</td>\n",
       "      <td>NaN</td>\n",
       "      <td>NaN</td>\n",
       "      <td>NaN</td>\n",
       "      <td>NaN</td>\n",
       "      <td>NaN</td>\n",
       "      <td>NaN</td>\n",
       "    </tr>\n",
       "    <tr>\n",
       "      <td>3102</td>\n",
       "      <td>Monday, September 24, 2018 4:54 PM</td>\n",
       "      <td>UberX</td>\n",
       "      <td>$0.30</td>\n",
       "      <td>$0.36</td>\n",
       "      <td>$0.21</td>\n",
       "      <td>$1.76</td>\n",
       "      <td>NaN</td>\n",
       "      <td>NaN</td>\n",
       "      <td>NaN</td>\n",
       "      <td>NaN</td>\n",
       "      <td>...</td>\n",
       "      <td>NaN</td>\n",
       "      <td>$2.97</td>\n",
       "      <td>NaN</td>\n",
       "      <td>NaN</td>\n",
       "      <td>NaN</td>\n",
       "      <td>NaN</td>\n",
       "      <td>NaN</td>\n",
       "      <td>NaN</td>\n",
       "      <td>NaN</td>\n",
       "      <td>NaN</td>\n",
       "    </tr>\n",
       "    <tr>\n",
       "      <td>3103</td>\n",
       "      <td>Saturday, September 22, 2018 9:11 PM</td>\n",
       "      <td>UberX</td>\n",
       "      <td>$0.30</td>\n",
       "      <td>$4.46</td>\n",
       "      <td>$0.92</td>\n",
       "      <td>NaN</td>\n",
       "      <td>NaN</td>\n",
       "      <td>NaN</td>\n",
       "      <td>NaN</td>\n",
       "      <td>NaN</td>\n",
       "      <td>...</td>\n",
       "      <td>NaN</td>\n",
       "      <td>$5.68</td>\n",
       "      <td>NaN</td>\n",
       "      <td>NaN</td>\n",
       "      <td>NaN</td>\n",
       "      <td>NaN</td>\n",
       "      <td>NaN</td>\n",
       "      <td>NaN</td>\n",
       "      <td>NaN</td>\n",
       "      <td>NaN</td>\n",
       "    </tr>\n",
       "  </tbody>\n",
       "</table>\n",
       "<p>3104 rows × 21 columns</p>\n",
       "</div>"
      ],
      "text/plain": [
       "                                 Date/Time   Type Base Fare Distance   Time  \\\n",
       "0        Thursday, April 18, 2019 10:24 PM  UberX     $0.30    $0.97  $0.68   \n",
       "1         Thursday, April 18, 2019 9:48 PM  UberX     $0.30    $4.10  $2.09   \n",
       "2           Friday, April 19, 2019 8:39 PM  UberX     $0.30    $4.40  $1.79   \n",
       "3          Friday, April 19, 2019 10:50 PM  UberX     $0.30    $1.11  $0.60   \n",
       "4        Wednesday, April 17, 2019 8:08 PM  UberX     $0.30    $1.10  $0.69   \n",
       "...                                    ...    ...       ...      ...    ...   \n",
       "3099  Saturday, September 22, 2018 6:28 PM  UberX     $0.30   $10.95  $1.24   \n",
       "3100    Monday, September 24, 2018 5:32 PM  UberX     $0.30    $0.92  $0.39   \n",
       "3101  Saturday, September 22, 2018 6:48 PM  UberX     $0.30   $17.39  $1.95   \n",
       "3102    Monday, September 24, 2018 4:54 PM  UberX     $0.30    $0.36  $0.21   \n",
       "3103  Saturday, September 22, 2018 9:11 PM  UberX     $0.30    $4.46  $0.92   \n",
       "\n",
       "     Min Fare Supplement Cancellation    Tip  Surge Diamond Reward  ...  \\\n",
       "0                  $0.68          NaN    NaN    NaN          $0.10  ...   \n",
       "1                    NaN          NaN  $3.00    NaN          $0.37  ...   \n",
       "2                    NaN          NaN    NaN    NaN          $0.38  ...   \n",
       "3                  $0.62          NaN    NaN    NaN          $0.11  ...   \n",
       "4                  $0.54          NaN  $5.00    NaN          $0.11  ...   \n",
       "...                  ...          ...    ...    ...            ...  ...   \n",
       "3099                 NaN          NaN    NaN    NaN            NaN  ...   \n",
       "3100               $1.01          NaN  $1.00  $3.25            NaN  ...   \n",
       "3101                 NaN          NaN    NaN  $3.25            NaN  ...   \n",
       "3102               $1.76          NaN    NaN    NaN            NaN  ...   \n",
       "3103                 NaN          NaN    NaN    NaN            NaN  ...   \n",
       "\n",
       "     Promotions   Total Long Pickup Fee Optional Insurance  \\\n",
       "0           NaN   $2.73             NaN                NaN   \n",
       "1           NaN   $9.86             NaN                NaN   \n",
       "2           NaN   $6.87             NaN                NaN   \n",
       "3           NaN   $2.97             NaN                NaN   \n",
       "4           NaN   $7.74             NaN                NaN   \n",
       "...         ...     ...             ...                ...   \n",
       "3099        NaN  $12.49             NaN                NaN   \n",
       "3100        NaN   $6.87             NaN                NaN   \n",
       "3101        NaN  $22.89             NaN                NaN   \n",
       "3102        NaN   $2.97             NaN                NaN   \n",
       "3103        NaN   $5.68             NaN                NaN   \n",
       "\n",
       "     Consecutive Trips Promotion  Share Adjustment Quest Promotion  \\\n",
       "0                            NaN               NaN             NaN   \n",
       "1                            NaN               NaN             NaN   \n",
       "2                            NaN               NaN             NaN   \n",
       "3                            NaN               NaN             NaN   \n",
       "4                            NaN               NaN             NaN   \n",
       "...                          ...               ...             ...   \n",
       "3099                         NaN               NaN             NaN   \n",
       "3100                         NaN               NaN             NaN   \n",
       "3101                         NaN               NaN             NaN   \n",
       "3102                         NaN               NaN             NaN   \n",
       "3103                         NaN               NaN             NaN   \n",
       "\n",
       "      Fare Adjustment Platinum Reward Cleaning Repairs  \n",
       "0                 NaN             NaN              NaN  \n",
       "1                 NaN             NaN              NaN  \n",
       "2                 NaN             NaN              NaN  \n",
       "3                 NaN             NaN              NaN  \n",
       "4                 NaN             NaN              NaN  \n",
       "...               ...             ...              ...  \n",
       "3099              NaN             NaN              NaN  \n",
       "3100              NaN             NaN              NaN  \n",
       "3101              NaN             NaN              NaN  \n",
       "3102              NaN             NaN              NaN  \n",
       "3103              NaN             NaN              NaN  \n",
       "\n",
       "[3104 rows x 21 columns]"
      ]
     },
     "execution_count": 6,
     "metadata": {},
     "output_type": "execute_result"
    }
   ],
   "source": [
    "df.drop(['Phone Number', \"Driver Name\", \"Email\", \"Trip ID\"], axis=1)"
   ]
  },
  {
   "cell_type": "code",
   "execution_count": 7,
   "metadata": {},
   "outputs": [],
   "source": [
    "df['Total'] = df['Total'].map(lambda x: x.lstrip('$'))\n",
    "df['Total'] = df['Total'].map(lambda x: x.lstrip('-$'))"
   ]
  },
  {
   "cell_type": "code",
   "execution_count": 8,
   "metadata": {},
   "outputs": [],
   "source": [
    "df['Distance'] = df['Distance'].astype(str).str.lstrip('$')\n",
    "df['Distance'] = df['Distance'].astype(str).str.lstrip('-$')"
   ]
  },
  {
   "cell_type": "code",
   "execution_count": 9,
   "metadata": {},
   "outputs": [],
   "source": [
    "df['Base Fare'] = df['Base Fare'].astype(str).str.lstrip('$')\n",
    "df['Base Fare'] = df['Base Fare'].astype(str).str.lstrip('-$')"
   ]
  },
  {
   "cell_type": "code",
   "execution_count": 10,
   "metadata": {},
   "outputs": [],
   "source": [
    "df['Time'] = df['Time'].astype(str).str.lstrip('$')\n",
    "df['Time'] = df['Time'].astype(str).str.lstrip('-$')"
   ]
  },
  {
   "cell_type": "code",
   "execution_count": 11,
   "metadata": {},
   "outputs": [],
   "source": [
    "df['Min Fare Supplement'] = df['Min Fare Supplement'].astype(str).str.lstrip('$')\n",
    "df['Min Fare Supplement'] = df['Min Fare Supplement'].astype(str).str.lstrip('-$')\n",
    "df['Min Fare Supplement'] = df['Min Fare Supplement'].fillna(0)"
   ]
  },
  {
   "cell_type": "code",
   "execution_count": 12,
   "metadata": {},
   "outputs": [],
   "source": [
    "df['Promotions'] = df['Promotions'].astype(str).str.lstrip('$')\n",
    "df['Promotions'] = df['Promotions'].astype(str).str.lstrip('-$')\n",
    "df['Promotions'] = df['Promotions'].fillna(0)"
   ]
  },
  {
   "cell_type": "code",
   "execution_count": 13,
   "metadata": {},
   "outputs": [],
   "source": [
    "df['Long Pickup Fee'] = df['Long Pickup Fee'].astype(str).str.lstrip('$')\n",
    "df['Long Pickup Fee'] = df['Long Pickup Fee'].astype(str).str.lstrip('-$')\n",
    "df['Long Pickup Fee'] = df['Long Pickup Fee'].fillna(0)"
   ]
  },
  {
   "cell_type": "code",
   "execution_count": 14,
   "metadata": {},
   "outputs": [],
   "source": [
    "df['Optional Insurance'] = df['Optional Insurance'].astype(str).str.lstrip('$')\n",
    "df['Optional Insurance'] = df['Optional Insurance'].astype(str).str.lstrip('-$')\n",
    "df['Optional Insurance'] = df['Optional Insurance'].fillna(0)"
   ]
  },
  {
   "cell_type": "code",
   "execution_count": 15,
   "metadata": {},
   "outputs": [],
   "source": [
    "df['Consecutive Trips Promotion'] = df['Consecutive Trips Promotion'].astype(str).str.lstrip('$')\n",
    "df['Consecutive Trips Promotion'] = df['Consecutive Trips Promotion'].astype(str).str.lstrip('-$')\n",
    "df['Consecutive Trips Promotion'] = df['Consecutive Trips Promotion'].fillna(0)"
   ]
  },
  {
   "cell_type": "code",
   "execution_count": 16,
   "metadata": {},
   "outputs": [],
   "source": [
    "df['Share Adjustment'] = df['Share Adjustment'].astype(str).str.lstrip('$')\n",
    "df['Share Adjustment'] = df['Share Adjustment'].astype(str).str.lstrip('-$')\n",
    "df['Share Adjustment'] = df['Share Adjustment'].fillna(0)"
   ]
  },
  {
   "cell_type": "code",
   "execution_count": 17,
   "metadata": {},
   "outputs": [],
   "source": [
    "df['Quest Promotion'] = df['Quest Promotion'].astype(str).str.lstrip('$')\n",
    "df['Quest Promotion'] = df['Quest Promotion'].astype(str).str.lstrip('-$')\n",
    "df['Quest Promotion'] = df['Quest Promotion'].fillna(0)"
   ]
  },
  {
   "cell_type": "code",
   "execution_count": 18,
   "metadata": {},
   "outputs": [],
   "source": [
    "df['Fare Adjustment'] = df['Fare Adjustment'].astype(str).str.lstrip('$')\n",
    "df['Fare Adjustment'] = df['Fare Adjustment'].astype(str).str.lstrip('-$')\n",
    "df['Fare Adjustment'] = df['Fare Adjustment'].fillna(0)"
   ]
  },
  {
   "cell_type": "code",
   "execution_count": 19,
   "metadata": {},
   "outputs": [],
   "source": [
    "df['Platinum Reward'] = df['Platinum Reward'].astype(str).str.lstrip('$')\n",
    "df['Platinum Reward'] = df['Platinum Reward'].astype(str).str.lstrip('-$')\n",
    "df['Platinum Reward'] = df['Platinum Reward'].fillna(0)"
   ]
  },
  {
   "cell_type": "code",
   "execution_count": 20,
   "metadata": {},
   "outputs": [],
   "source": [
    "df['Cleaning Repairs'] = df['Cleaning Repairs'].astype(str).str.lstrip('$')\n",
    "df['Cleaning Repairs'] = df['Cleaning Repairs'].astype(str).str.lstrip('-$')\n",
    "df['Cleaning Repairs'] = df['Cleaning Repairs'].fillna(0)"
   ]
  },
  {
   "cell_type": "code",
   "execution_count": 38,
   "metadata": {},
   "outputs": [],
   "source": [
    "df['Tip'] = df['Tip'].astype(str).str.lstrip('$')\n",
    "df['Tip'] = df['Tip'].astype(str).str.lstrip('-$')\n",
    "df['Tip'] = df['Tip'].fillna(0)"
   ]
  },
  {
   "cell_type": "code",
   "execution_count": 39,
   "metadata": {},
   "outputs": [],
   "source": [
    "df['Diamond Reward'] = df['Diamond Reward'].astype(str).str.lstrip('$')\n",
    "df['Diamond Reward'] = df['Diamond Reward'].astype(str).str.lstrip('-$')\n",
    "df['Diamond Reward'] = df['Diamond Reward'].fillna(0)"
   ]
  },
  {
   "cell_type": "code",
   "execution_count": 55,
   "metadata": {},
   "outputs": [],
   "source": [
    "df['Wait Time'] = df['Wait Time'].astype(str).str.lstrip('$')\n",
    "df['Wait Time'] = df['Wait Time'].astype(str).str.lstrip('-$')\n",
    "df['Wait Time'] = df['Wait Time'].fillna(0)"
   ]
  },
  {
   "cell_type": "code",
   "execution_count": 58,
   "metadata": {},
   "outputs": [],
   "source": [
    "df['Cancellation'] = df['Cancellation'].astype(str).str.lstrip('$')\n",
    "df['Cancellation'] = df['Cancellation'].astype(str).str.lstrip('-$')\n",
    "df['Cancellation'] = df['Cancellation'].fillna(0)"
   ]
  },
  {
   "cell_type": "code",
   "execution_count": 60,
   "metadata": {},
   "outputs": [],
   "source": [
    "df['Surge'] = df['Surge'].astype(str).str.lstrip('$')\n",
    "df['Surge'] = df['Surge'].astype(str).str.lstrip('-$')\n",
    "df['Surge'] = df['Surge'].fillna(0)\n"
   ]
  },
  {
   "cell_type": "code",
   "execution_count": 100,
   "metadata": {},
   "outputs": [],
   "source": [
    "df['Fare Adjustment'] = df['Fare Adjustment'].astype(str).str.lstrip('$')\n",
    "df['Fare Adjustment'] = df['Fare Adjustment'].astype(str).str.lstrip('-$')\n",
    "df['Fare Adjustment'] = df['Fare Adjustment'].fillna(0)\n"
   ]
  },
  {
   "cell_type": "code",
   "execution_count": null,
   "metadata": {},
   "outputs": [],
   "source": [
    "df[\"Total\"] = df.Total.astype(float)\n",
    "df[\"Base Fare\"] = df[\"Base Fare\"].astype(float)\n",
    "df[\"Distance\"] = df.Distance.astype(float)\n",
    "df[\"Time\"] = df.Time.astype(float)\n",
    "df[\"Min Fare Supplement\"] = df[\"Min Fare Supplement\"].astype(float)\n",
    "df[\"Tip\"] = df.Tip.astype(float)\n",
    "df[\"Diamond Reward\"] = df[\"Diamond Reward\"].astype(float)\n",
    "df[\"Wait Time\"] = df[\"Wait Time\"].astype(float)\n",
    "df[\"Long Pickup Fee\"] = df[\"Long Pickup Fee\"].astype(float)\n",
    "df[\"Optional Insurance\"] = df[\"Optional Insurance\"].astype(float)\n",
    "df[\"Consecutive Trips Promotion\"] = df[\"Consecutive Trips Promotion\"].astype(float)\n",
    "df[\"Cancellation\"] = df.Cancellation.astype(float)\n",
    "df[\"Platinum Reward\"] = df[\"Platinum Reward\"].astype(float)\n",
    "df[\"Surge\"] = df.Surge.astype(float)\n",
    "df[\"Fare Adjustment\"] = df[\"Fare Adjustment\"].astype(float)\n",
    "df[\"Share Adjustment\"] = df[\"Share Adjustment\"].astype(float)"
   ]
  },
  {
   "cell_type": "code",
   "execution_count": 92,
   "metadata": {},
   "outputs": [
    {
     "name": "stdout",
     "output_type": "stream",
     "text": [
      "<class 'pandas.core.frame.DataFrame'>\n",
      "RangeIndex: 3104 entries, 0 to 3103\n",
      "Data columns (total 25 columns):\n",
      "Driver Name                    3104 non-null object\n",
      "Phone Number                   0 non-null float64\n",
      "Email                          3104 non-null object\n",
      "Date/Time                      3104 non-null object\n",
      "Trip ID                        3104 non-null object\n",
      "Type                           3104 non-null object\n",
      "Base Fare                      2929 non-null float64\n",
      "Distance                       2925 non-null float64\n",
      "Time                           2929 non-null float64\n",
      "Min Fare Supplement            787 non-null float64\n",
      "Cancellation                   133 non-null float64\n",
      "Tip                            855 non-null float64\n",
      "Surge                          551 non-null float64\n",
      "Diamond Reward                 1470 non-null float64\n",
      "Wait Time                      576 non-null float64\n",
      "Promotions                     3104 non-null object\n",
      "Total                          3104 non-null float64\n",
      "Long Pickup Fee                26 non-null float64\n",
      "Optional Insurance             476 non-null float64\n",
      "Consecutive Trips Promotion    0 non-null float64\n",
      "Share Adjustment               7 non-null float64\n",
      "Quest Promotion                3104 non-null object\n",
      "Fare Adjustment                4 non-null float64\n",
      "Platinum Reward                432 non-null float64\n",
      "Cleaning Repairs               3104 non-null object\n",
      "dtypes: float64(17), object(8)\n",
      "memory usage: 606.4+ KB\n"
     ]
    }
   ],
   "source": [
    "df.info()"
   ]
  },
  {
   "cell_type": "code",
   "execution_count": 98,
   "metadata": {},
   "outputs": [],
   "source": [
    "df_useful = df.drop(['Phone Number', \"Driver Name\", \"Email\", \"Trip ID\", \"Promotions\", \"Quest Promotion\", \"Cleaning Repairs\"], axis=1)"
   ]
  },
  {
   "cell_type": "code",
   "execution_count": 99,
   "metadata": {},
   "outputs": [
    {
     "name": "stdout",
     "output_type": "stream",
     "text": [
      "<class 'pandas.core.frame.DataFrame'>\n",
      "RangeIndex: 3104 entries, 0 to 3103\n",
      "Data columns (total 18 columns):\n",
      "Date/Time                      3104 non-null object\n",
      "Type                           3104 non-null object\n",
      "Base Fare                      2929 non-null float64\n",
      "Distance                       2925 non-null float64\n",
      "Time                           2929 non-null float64\n",
      "Min Fare Supplement            787 non-null float64\n",
      "Cancellation                   133 non-null float64\n",
      "Tip                            855 non-null float64\n",
      "Surge                          551 non-null float64\n",
      "Diamond Reward                 1470 non-null float64\n",
      "Wait Time                      576 non-null float64\n",
      "Total                          3104 non-null float64\n",
      "Long Pickup Fee                26 non-null float64\n",
      "Optional Insurance             476 non-null float64\n",
      "Consecutive Trips Promotion    0 non-null float64\n",
      "Share Adjustment               7 non-null float64\n",
      "Fare Adjustment                4 non-null float64\n",
      "Platinum Reward                432 non-null float64\n",
      "dtypes: float64(16), object(2)\n",
      "memory usage: 436.6+ KB\n"
     ]
    }
   ],
   "source": [
    "df_useful.info()"
   ]
  },
  {
   "cell_type": "code",
   "execution_count": 103,
   "metadata": {},
   "outputs": [
    {
     "data": {
      "text/plain": [
       "<matplotlib.axes._subplots.AxesSubplot at 0x1cf20a99e48>"
      ]
     },
     "execution_count": 103,
     "metadata": {},
     "output_type": "execute_result"
    },
    {
     "data": {
      "image/png": "[encoded data removed]",
      "text/plain": [
       "<Figure size 432x288 with 1 Axes>"
      ]
     },
     "metadata": {
      "needs_background": "light"
     },
     "output_type": "display_data"
    }
   ],
   "source": [
    "df_useful.plot()"
   ]
  },
  {
   "cell_type": "code",
   "execution_count": 113,
   "metadata": {
    "scrolled": true
   },
   "outputs": [
    {
     "data": {
      "text/plain": [
       "Text(0.5, 0, 'Time')"
      ]
     },
     "execution_count": 113,
     "metadata": {},
     "output_type": "execute_result"
    },
    {
     "data": {
      "image/png": "[encoded data removed]",
      "text/plain": [
       "<Figure size 432x288 with 1 Axes>"
      ]
     },
     "metadata": {
      "needs_background": "light"
     },
     "output_type": "display_data"
    }
   ],
   "source": [
    "plt.scatter(df_useful.Time,df_useful.Total);\n",
    "plt.ylabel('Total Amount')\n",
    "plt.xlabel('Time')"
   ]
  },
  {
   "cell_type": "code",
   "execution_count": 114,
   "metadata": {},
   "outputs": [
    {
     "data": {
      "text/plain": [
       "Text(0.5, 0, 'Total Amount')"
      ]
     },
     "execution_count": 114,
     "metadata": {},
     "output_type": "execute_result"
    },
    {
     "data": {
      "image/png": "[encoded data removed]",
      "text/plain": [
       "<Figure size 432x288 with 1 Axes>"
      ]
     },
     "metadata": {
      "needs_background": "light"
     },
     "output_type": "display_data"
    }
   ],
   "source": [
    "plt.scatter(df_useful.Total,df_useful.Distance);\n",
    "plt.ylabel('Distance')\n",
    "plt.xlabel('Total Amount')"
   ]
  },
  {
   "cell_type": "code",
   "execution_count": 133,
   "metadata": {},
   "outputs": [
    {
     "data": {
      "text/plain": [
       "Text(0.5, 0, 'Distance')"
      ]
     },
     "execution_count": 133,
     "metadata": {},
     "output_type": "execute_result"
    },
    {
     "data": {
      "image/png": "[encoded data removed]",
      "text/plain": [
       "<Figure size 432x288 with 1 Axes>"
      ]
     },
     "metadata": {
      "needs_background": "light"
     },
     "output_type": "display_data"
    }
   ],
   "source": [
    "plt.scatter(df_useful.Distance, df_useful.Time);\n",
    "plt.ylabel('Time')\n",
    "plt.xlabel('Distance')"
   ]
  },
  {
   "cell_type": "code",
   "execution_count": 138,
   "metadata": {},
   "outputs": [],
   "source": [
    "df_useful = df_useful.drop(\"Date/Time\", axis =1)"
   ]
  },
  {
   "cell_type": "code",
   "execution_count": 142,
   "metadata": {},
   "outputs": [],
   "source": [
    "from sklearn.model_selection import train_test_split\n",
    "from sklearn.linear_model import LinearRegression"
   ]
  },
  {
   "cell_type": "code",
   "execution_count": 185,
   "metadata": {},
   "outputs": [],
   "source": [
    "from sklearn.preprocessing import LabelEncoder\n",
    "from sklearn.metrics import mean_squared_error, r2_score\n"
   ]
  },
  {
   "cell_type": "code",
   "execution_count": 151,
   "metadata": {},
   "outputs": [],
   "source": [
    "le = LabelEncoder()\n",
    "df_useful['Type'] = le.fit_transform(df_useful['Type'])"
   ]
  },
  {
   "cell_type": "code",
   "execution_count": 152,
   "metadata": {},
   "outputs": [
    {
     "data": {
      "text/html": [
       "<div>\n",
       "<style scoped>\n",
       "    .dataframe tbody tr th:only-of-type {\n",
       "        vertical-align: middle;\n",
       "    }\n",
       "\n",
       "    .dataframe tbody tr th {\n",
       "        vertical-align: top;\n",
       "    }\n",
       "\n",
       "    .dataframe thead th {\n",
       "        text-align: right;\n",
       "    }\n",
       "</style>\n",
       "<table border=\"1\" class=\"dataframe\">\n",
       "  <thead>\n",
       "    <tr style=\"text-align: right;\">\n",
       "      <th></th>\n",
       "      <th>Type</th>\n",
       "      <th>Base Fare</th>\n",
       "      <th>Distance</th>\n",
       "      <th>Time</th>\n",
       "      <th>Min Fare Supplement</th>\n",
       "      <th>Cancellation</th>\n",
       "      <th>Tip</th>\n",
       "      <th>Surge</th>\n",
       "      <th>Diamond Reward</th>\n",
       "      <th>Wait Time</th>\n",
       "      <th>Total</th>\n",
       "      <th>Long Pickup Fee</th>\n",
       "      <th>Optional Insurance</th>\n",
       "      <th>Consecutive Trips Promotion</th>\n",
       "      <th>Share Adjustment</th>\n",
       "      <th>Fare Adjustment</th>\n",
       "      <th>Platinum Reward</th>\n",
       "    </tr>\n",
       "  </thead>\n",
       "  <tbody>\n",
       "    <tr>\n",
       "      <td>0</td>\n",
       "      <td>0</td>\n",
       "      <td>0.3</td>\n",
       "      <td>0.97</td>\n",
       "      <td>0.68</td>\n",
       "      <td>0.68</td>\n",
       "      <td>0.0</td>\n",
       "      <td>0.0</td>\n",
       "      <td>0.00</td>\n",
       "      <td>0.10</td>\n",
       "      <td>0.00</td>\n",
       "      <td>2.73</td>\n",
       "      <td>0.0</td>\n",
       "      <td>0.0</td>\n",
       "      <td>0.0</td>\n",
       "      <td>0.0</td>\n",
       "      <td>0.0</td>\n",
       "      <td>0.0</td>\n",
       "    </tr>\n",
       "    <tr>\n",
       "      <td>1</td>\n",
       "      <td>0</td>\n",
       "      <td>0.3</td>\n",
       "      <td>4.10</td>\n",
       "      <td>2.09</td>\n",
       "      <td>0.00</td>\n",
       "      <td>0.0</td>\n",
       "      <td>3.0</td>\n",
       "      <td>0.00</td>\n",
       "      <td>0.37</td>\n",
       "      <td>0.00</td>\n",
       "      <td>9.86</td>\n",
       "      <td>0.0</td>\n",
       "      <td>0.0</td>\n",
       "      <td>0.0</td>\n",
       "      <td>0.0</td>\n",
       "      <td>0.0</td>\n",
       "      <td>0.0</td>\n",
       "    </tr>\n",
       "    <tr>\n",
       "      <td>2</td>\n",
       "      <td>0</td>\n",
       "      <td>0.3</td>\n",
       "      <td>4.40</td>\n",
       "      <td>1.79</td>\n",
       "      <td>0.00</td>\n",
       "      <td>0.0</td>\n",
       "      <td>0.0</td>\n",
       "      <td>0.00</td>\n",
       "      <td>0.38</td>\n",
       "      <td>0.00</td>\n",
       "      <td>6.87</td>\n",
       "      <td>0.0</td>\n",
       "      <td>0.0</td>\n",
       "      <td>0.0</td>\n",
       "      <td>0.0</td>\n",
       "      <td>0.0</td>\n",
       "      <td>0.0</td>\n",
       "    </tr>\n",
       "    <tr>\n",
       "      <td>3</td>\n",
       "      <td>0</td>\n",
       "      <td>0.3</td>\n",
       "      <td>1.11</td>\n",
       "      <td>0.60</td>\n",
       "      <td>0.62</td>\n",
       "      <td>0.0</td>\n",
       "      <td>0.0</td>\n",
       "      <td>0.00</td>\n",
       "      <td>0.11</td>\n",
       "      <td>0.23</td>\n",
       "      <td>2.97</td>\n",
       "      <td>0.0</td>\n",
       "      <td>0.0</td>\n",
       "      <td>0.0</td>\n",
       "      <td>0.0</td>\n",
       "      <td>0.0</td>\n",
       "      <td>0.0</td>\n",
       "    </tr>\n",
       "    <tr>\n",
       "      <td>4</td>\n",
       "      <td>0</td>\n",
       "      <td>0.3</td>\n",
       "      <td>1.10</td>\n",
       "      <td>0.69</td>\n",
       "      <td>0.54</td>\n",
       "      <td>0.0</td>\n",
       "      <td>5.0</td>\n",
       "      <td>0.00</td>\n",
       "      <td>0.11</td>\n",
       "      <td>0.00</td>\n",
       "      <td>7.74</td>\n",
       "      <td>0.0</td>\n",
       "      <td>0.0</td>\n",
       "      <td>0.0</td>\n",
       "      <td>0.0</td>\n",
       "      <td>0.0</td>\n",
       "      <td>0.0</td>\n",
       "    </tr>\n",
       "    <tr>\n",
       "      <td>...</td>\n",
       "      <td>...</td>\n",
       "      <td>...</td>\n",
       "      <td>...</td>\n",
       "      <td>...</td>\n",
       "      <td>...</td>\n",
       "      <td>...</td>\n",
       "      <td>...</td>\n",
       "      <td>...</td>\n",
       "      <td>...</td>\n",
       "      <td>...</td>\n",
       "      <td>...</td>\n",
       "      <td>...</td>\n",
       "      <td>...</td>\n",
       "      <td>...</td>\n",
       "      <td>...</td>\n",
       "      <td>...</td>\n",
       "      <td>...</td>\n",
       "    </tr>\n",
       "    <tr>\n",
       "      <td>3099</td>\n",
       "      <td>0</td>\n",
       "      <td>0.3</td>\n",
       "      <td>10.95</td>\n",
       "      <td>1.24</td>\n",
       "      <td>0.00</td>\n",
       "      <td>0.0</td>\n",
       "      <td>0.0</td>\n",
       "      <td>0.00</td>\n",
       "      <td>0.00</td>\n",
       "      <td>0.00</td>\n",
       "      <td>12.49</td>\n",
       "      <td>0.0</td>\n",
       "      <td>0.0</td>\n",
       "      <td>0.0</td>\n",
       "      <td>0.0</td>\n",
       "      <td>0.0</td>\n",
       "      <td>0.0</td>\n",
       "    </tr>\n",
       "    <tr>\n",
       "      <td>3100</td>\n",
       "      <td>0</td>\n",
       "      <td>0.3</td>\n",
       "      <td>0.92</td>\n",
       "      <td>0.39</td>\n",
       "      <td>1.01</td>\n",
       "      <td>0.0</td>\n",
       "      <td>1.0</td>\n",
       "      <td>3.25</td>\n",
       "      <td>0.00</td>\n",
       "      <td>0.00</td>\n",
       "      <td>6.87</td>\n",
       "      <td>0.0</td>\n",
       "      <td>0.0</td>\n",
       "      <td>0.0</td>\n",
       "      <td>0.0</td>\n",
       "      <td>0.0</td>\n",
       "      <td>0.0</td>\n",
       "    </tr>\n",
       "    <tr>\n",
       "      <td>3101</td>\n",
       "      <td>0</td>\n",
       "      <td>0.3</td>\n",
       "      <td>17.39</td>\n",
       "      <td>1.95</td>\n",
       "      <td>0.00</td>\n",
       "      <td>0.0</td>\n",
       "      <td>0.0</td>\n",
       "      <td>3.25</td>\n",
       "      <td>0.00</td>\n",
       "      <td>0.00</td>\n",
       "      <td>22.89</td>\n",
       "      <td>0.0</td>\n",
       "      <td>0.0</td>\n",
       "      <td>0.0</td>\n",
       "      <td>0.0</td>\n",
       "      <td>0.0</td>\n",
       "      <td>0.0</td>\n",
       "    </tr>\n",
       "    <tr>\n",
       "      <td>3102</td>\n",
       "      <td>0</td>\n",
       "      <td>0.3</td>\n",
       "      <td>0.36</td>\n",
       "      <td>0.21</td>\n",
       "      <td>1.76</td>\n",
       "      <td>0.0</td>\n",
       "      <td>0.0</td>\n",
       "      <td>0.00</td>\n",
       "      <td>0.00</td>\n",
       "      <td>0.34</td>\n",
       "      <td>2.97</td>\n",
       "      <td>0.0</td>\n",
       "      <td>0.0</td>\n",
       "      <td>0.0</td>\n",
       "      <td>0.0</td>\n",
       "      <td>0.0</td>\n",
       "      <td>0.0</td>\n",
       "    </tr>\n",
       "    <tr>\n",
       "      <td>3103</td>\n",
       "      <td>0</td>\n",
       "      <td>0.3</td>\n",
       "      <td>4.46</td>\n",
       "      <td>0.92</td>\n",
       "      <td>0.00</td>\n",
       "      <td>0.0</td>\n",
       "      <td>0.0</td>\n",
       "      <td>0.00</td>\n",
       "      <td>0.00</td>\n",
       "      <td>0.00</td>\n",
       "      <td>5.68</td>\n",
       "      <td>0.0</td>\n",
       "      <td>0.0</td>\n",
       "      <td>0.0</td>\n",
       "      <td>0.0</td>\n",
       "      <td>0.0</td>\n",
       "      <td>0.0</td>\n",
       "    </tr>\n",
       "  </tbody>\n",
       "</table>\n",
       "<p>3104 rows × 17 columns</p>\n",
       "</div>"
      ],
      "text/plain": [
       "      Type  Base Fare  Distance  Time  Min Fare Supplement  Cancellation  Tip  \\\n",
       "0        0        0.3      0.97  0.68                 0.68           0.0  0.0   \n",
       "1        0        0.3      4.10  2.09                 0.00           0.0  3.0   \n",
       "2        0        0.3      4.40  1.79                 0.00           0.0  0.0   \n",
       "3        0        0.3      1.11  0.60                 0.62           0.0  0.0   \n",
       "4        0        0.3      1.10  0.69                 0.54           0.0  5.0   \n",
       "...    ...        ...       ...   ...                  ...           ...  ...   \n",
       "3099     0        0.3     10.95  1.24                 0.00           0.0  0.0   \n",
       "3100     0        0.3      0.92  0.39                 1.01           0.0  1.0   \n",
       "3101     0        0.3     17.39  1.95                 0.00           0.0  0.0   \n",
       "3102     0        0.3      0.36  0.21                 1.76           0.0  0.0   \n",
       "3103     0        0.3      4.46  0.92                 0.00           0.0  0.0   \n",
       "\n",
       "      Surge  Diamond Reward  Wait Time  Total  Long Pickup Fee  \\\n",
       "0      0.00            0.10       0.00   2.73              0.0   \n",
       "1      0.00            0.37       0.00   9.86              0.0   \n",
       "2      0.00            0.38       0.00   6.87              0.0   \n",
       "3      0.00            0.11       0.23   2.97              0.0   \n",
       "4      0.00            0.11       0.00   7.74              0.0   \n",
       "...     ...             ...        ...    ...              ...   \n",
       "3099   0.00            0.00       0.00  12.49              0.0   \n",
       "3100   3.25            0.00       0.00   6.87              0.0   \n",
       "3101   3.25            0.00       0.00  22.89              0.0   \n",
       "3102   0.00            0.00       0.34   2.97              0.0   \n",
       "3103   0.00            0.00       0.00   5.68              0.0   \n",
       "\n",
       "      Optional Insurance  Consecutive Trips Promotion  Share Adjustment  \\\n",
       "0                    0.0                          0.0               0.0   \n",
       "1                    0.0                          0.0               0.0   \n",
       "2                    0.0                          0.0               0.0   \n",
       "3                    0.0                          0.0               0.0   \n",
       "4                    0.0                          0.0               0.0   \n",
       "...                  ...                          ...               ...   \n",
       "3099                 0.0                          0.0               0.0   \n",
       "3100                 0.0                          0.0               0.0   \n",
       "3101                 0.0                          0.0               0.0   \n",
       "3102                 0.0                          0.0               0.0   \n",
       "3103                 0.0                          0.0               0.0   \n",
       "\n",
       "      Fare Adjustment  Platinum Reward  \n",
       "0                 0.0              0.0  \n",
       "1                 0.0              0.0  \n",
       "2                 0.0              0.0  \n",
       "3                 0.0              0.0  \n",
       "4                 0.0              0.0  \n",
       "...               ...              ...  \n",
       "3099              0.0              0.0  \n",
       "3100              0.0              0.0  \n",
       "3101              0.0              0.0  \n",
       "3102              0.0              0.0  \n",
       "3103              0.0              0.0  \n",
       "\n",
       "[3104 rows x 17 columns]"
      ]
     },
     "execution_count": 152,
     "metadata": {},
     "output_type": "execute_result"
    }
   ],
   "source": [
    "df_useful.fillna(0)"
   ]
  },
  {
   "cell_type": "code",
   "execution_count": null,
   "metadata": {},
   "outputs": [],
   "source": []
  },
  {
   "cell_type": "code",
   "execution_count": 153,
   "metadata": {},
   "outputs": [],
   "source": [
    "labels = df_useful[\"Total\"]\n",
    "features = df_useful.loc[:, df_useful.columns != 'Total']\n",
    "#features = features.loc[:, features != \"Date/Time\"]"
   ]
  },
  {
   "cell_type": "code",
   "execution_count": 176,
   "metadata": {},
   "outputs": [],
   "source": [
    "features = features.fillna(0)\n",
    "labels = labels.fillna(0)"
   ]
  },
  {
   "cell_type": "code",
   "execution_count": 177,
   "metadata": {},
   "outputs": [],
   "source": [
    "X_train, X_test, y_train, y_test = train_test_split(features, labels, random_state=42, \n",
    "                                                    train_size=0.8, test_size=0.2)"
   ]
  },
  {
   "cell_type": "code",
   "execution_count": 178,
   "metadata": {},
   "outputs": [
    {
     "data": {
      "text/plain": [
       "LinearRegression(copy_X=True, fit_intercept=True, n_jobs=None, normalize=False)"
      ]
     },
     "execution_count": 178,
     "metadata": {},
     "output_type": "execute_result"
    }
   ],
   "source": [
    "regressor = LinearRegression()  \n",
    "regressor.fit(X_train, y_train) #training the algorithm"
   ]
  },
  {
   "cell_type": "code",
   "execution_count": 183,
   "metadata": {},
   "outputs": [],
   "source": [
    "y_pred = regressor.predict(X_test)"
   ]
  },
  {
   "cell_type": "code",
   "execution_count": 186,
   "metadata": {},
   "outputs": [
    {
     "name": "stdout",
     "output_type": "stream",
     "text": [
      "Coefficients: \n",
      " [ 0.00000000e+00  7.28297103e-01  9.99260326e-01  9.98443752e-01\n",
      "  9.57455157e-01  9.75630895e-01  9.99515578e-01  1.00109798e+00\n",
      "  1.00020700e+00  1.00185168e+00  9.96996415e-01 -9.99321550e-01\n",
      "  4.99600361e-16  9.99923788e-01  5.46407617e-01  9.98639966e-01]\n",
      "Mean squared error: 0.00\n",
      "Coefficient of determination: 1.00\n"
     ]
    }
   ],
   "source": [
    "print('Coefficients: \\n', regressor.coef_)\n",
    "# The mean squared error\n",
    "print('Mean squared error: %.2f'\n",
    "      % mean_squared_error(y_test, y_pred))\n",
    "# The coefficient of determination: 1 is perfect prediction\n",
    "print('Coefficient of determination: %.2f'\n",
    "      % r2_score(y_test, y_pred))\n",
    "\n"
   ]
  },
  {
   "cell_type": "code",
   "execution_count": 194,
   "metadata": {},
   "outputs": [
    {
     "data": {
      "text/plain": [
       "(2483, 16)"
      ]
     },
     "execution_count": 194,
     "metadata": {},
     "output_type": "execute_result"
    }
   ],
   "source": [
    "X_train.shape"
   ]
  },
  {
   "cell_type": "code",
   "execution_count": 196,
   "metadata": {},
   "outputs": [
    {
     "data": {
      "text/plain": [
       "(2483,)"
      ]
     },
     "execution_count": 196,
     "metadata": {},
     "output_type": "execute_result"
    }
   ],
   "source": [
    "y_train.shape"
   ]
  },
  {
   "cell_type": "code",
   "execution_count": 199,
   "metadata": {},
   "outputs": [
    {
     "data": {
      "text/plain": [
       "(621, 16)"
      ]
     },
     "execution_count": 199,
     "metadata": {},
     "output_type": "execute_result"
    }
   ],
   "source": [
    "X_test.shape"
   ]
  },
  {
   "cell_type": "code",
   "execution_count": 201,
   "metadata": {},
   "outputs": [
    {
     "data": {
      "text/plain": [
       "(621,)"
      ]
     },
     "execution_count": 201,
     "metadata": {},
     "output_type": "execute_result"
    }
   ],
   "source": [
    "y_test.shape"
   ]
  },
  {
   "cell_type": "code",
   "execution_count": null,
   "metadata": {},
   "outputs": [],
   "source": []
  },
  {
   "cell_type": "code",
   "execution_count": null,
   "metadata": {},
   "outputs": [],
   "source": [
    "\n"
   ]
  },
  {
   "cell_type": "code",
   "execution_count": null,
   "metadata": {},
   "outputs": [],
   "source": []
  },
  {
   "cell_type": "code",
   "execution_count": null,
   "metadata": {},
   "outputs": [],
   "source": []
  },
  {
   "cell_type": "code",
   "execution_count": null,
   "metadata": {},
   "outputs": [],
   "source": []
  },
  {
   "cell_type": "code",
   "execution_count": null,
   "metadata": {},
   "outputs": [],
   "source": []
  },
  {
   "cell_type": "code",
   "execution_count": null,
   "metadata": {},
   "outputs": [],
   "source": []
  }
 ],
 "metadata": {
  "kernelspec": {
   "display_name": "Python 3",
   "language": "python",
   "name": "python3"
  },
  "language_info": {
   "codemirror_mode": {
    "name": "ipython",
    "version": 3
   },
   "file_extension": ".py",
   "mimetype": "text/x-python",
   "name": "python",
   "nbconvert_exporter": "python",
   "pygments_lexer": "ipython3",
   "version": "3.7.4"
  }
 },
 "nbformat": 4,
 "nbformat_minor": 2
}
