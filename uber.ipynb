{
 "cells": [
  {
   "cell_type": "code",
   "execution_count": 32,
   "metadata": {},
   "outputs": [],
   "source": [
    "import pandas as pd\n",
    "import matplotlib.pyplot as plt"
   ]
  },
  {
   "cell_type": "code",
   "execution_count": 33,
   "metadata": {},
   "outputs": [],
   "source": [
    "df = uber_dataset = pd.read_csv(\"phoenix_uber_trips.csv\")"
   ]
  },
  {
   "cell_type": "code",
   "execution_count": 34,
   "metadata": {},
   "outputs": [
    {
     "name": "stdout",
     "output_type": "stream",
     "text": [
      "<class 'pandas.core.frame.DataFrame'>\n",
      "RangeIndex: 3104 entries, 0 to 3103\n",
      "Data columns (total 25 columns):\n",
      "Driver Name                    3104 non-null object\n",
      "Phone Number                   0 non-null float64\n",
      "Email                          3104 non-null object\n",
      "Date/Time                      3104 non-null object\n",
      "Trip ID                        3104 non-null object\n",
      "Type                           3104 non-null object\n",
      "Base Fare                      2929 non-null object\n",
      "Distance                       2925 non-null object\n",
      "Time                           2929 non-null object\n",
      "Min Fare Supplement            787 non-null object\n",
      "Cancellation                   133 non-null object\n",
      "Tip                            855 non-null object\n",
      "Surge                          551 non-null object\n",
      "Diamond Reward                 1470 non-null object\n",
      "Wait Time                      576 non-null object\n",
      "Promotions                     0 non-null float64\n",
      "Total                          3104 non-null object\n",
      "Long Pickup Fee                26 non-null object\n",
      "Optional Insurance             476 non-null object\n",
      "Consecutive Trips Promotion    0 non-null float64\n",
      "Share Adjustment               7 non-null object\n",
      "Quest Promotion                0 non-null float64\n",
      "Fare Adjustment                4 non-null object\n",
      "Platinum Reward                432 non-null object\n",
      "Cleaning Repairs               0 non-null float64\n",
      "dtypes: float64(5), object(20)\n",
      "memory usage: 606.4+ KB\n"
     ]
    }
   ],
   "source": [
    "uber_dataset.info()"
   ]
  },
  {
   "cell_type": "code",
   "execution_count": null,
   "metadata": {},
   "outputs": [],
   "source": []
  },
  {
   "cell_type": "code",
   "execution_count": 35,
   "metadata": {},
   "outputs": [
    {
     "data": {
      "text/plain": [
       "count       133\n",
       "unique        4\n",
       "top       $3.75\n",
       "freq        117\n",
       "Name: Cancellation, dtype: object"
      ]
     },
     "execution_count": 35,
     "metadata": {},
     "output_type": "execute_result"
    }
   ],
   "source": [
    "df.Cancellation.describe()"
   ]
  },
  {
   "cell_type": "code",
   "execution_count": 36,
   "metadata": {},
   "outputs": [
    {
     "data": {
      "text/html": [
       "<div>\n",
       "<style scoped>\n",
       "    .dataframe tbody tr th:only-of-type {\n",
       "        vertical-align: middle;\n",
       "    }\n",
       "\n",
       "    .dataframe tbody tr th {\n",
       "        vertical-align: top;\n",
       "    }\n",
       "\n",
       "    .dataframe thead th {\n",
       "        text-align: right;\n",
       "    }\n",
       "</style>\n",
       "<table border=\"1\" class=\"dataframe\">\n",
       "  <thead>\n",
       "    <tr style=\"text-align: right;\">\n",
       "      <th></th>\n",
       "      <th>Driver Name</th>\n",
       "      <th>Phone Number</th>\n",
       "      <th>Email</th>\n",
       "      <th>Date/Time</th>\n",
       "      <th>Trip ID</th>\n",
       "      <th>Type</th>\n",
       "      <th>Base Fare</th>\n",
       "      <th>Distance</th>\n",
       "      <th>Time</th>\n",
       "      <th>Min Fare Supplement</th>\n",
       "      <th>...</th>\n",
       "      <th>Promotions</th>\n",
       "      <th>Total</th>\n",
       "      <th>Long Pickup Fee</th>\n",
       "      <th>Optional Insurance</th>\n",
       "      <th>Consecutive Trips Promotion</th>\n",
       "      <th>Share Adjustment</th>\n",
       "      <th>Quest Promotion</th>\n",
       "      <th>Fare Adjustment</th>\n",
       "      <th>Platinum Reward</th>\n",
       "      <th>Cleaning Repairs</th>\n",
       "    </tr>\n",
       "  </thead>\n",
       "  <tbody>\n",
       "    <tr>\n",
       "      <td>0</td>\n",
       "      <td>John Doe</td>\n",
       "      <td>NaN</td>\n",
       "      <td>jd@jd.com</td>\n",
       "      <td>Thursday, April 18, 2019 10:24 PM</td>\n",
       "      <td>9bce9679-2755-4c90-9689-f2de69c8f817</td>\n",
       "      <td>UberX</td>\n",
       "      <td>$0.30</td>\n",
       "      <td>$0.97</td>\n",
       "      <td>$0.68</td>\n",
       "      <td>$0.68</td>\n",
       "      <td>...</td>\n",
       "      <td>NaN</td>\n",
       "      <td>$2.73</td>\n",
       "      <td>NaN</td>\n",
       "      <td>NaN</td>\n",
       "      <td>NaN</td>\n",
       "      <td>NaN</td>\n",
       "      <td>NaN</td>\n",
       "      <td>NaN</td>\n",
       "      <td>NaN</td>\n",
       "      <td>NaN</td>\n",
       "    </tr>\n",
       "    <tr>\n",
       "      <td>1</td>\n",
       "      <td>John Doe</td>\n",
       "      <td>NaN</td>\n",
       "      <td>jd@jd.com</td>\n",
       "      <td>Thursday, April 18, 2019 9:48 PM</td>\n",
       "      <td>bb83ec2b-fd4c-457d-ae92-0a216624d85b</td>\n",
       "      <td>UberX</td>\n",
       "      <td>$0.30</td>\n",
       "      <td>$4.10</td>\n",
       "      <td>$2.09</td>\n",
       "      <td>NaN</td>\n",
       "      <td>...</td>\n",
       "      <td>NaN</td>\n",
       "      <td>$9.86</td>\n",
       "      <td>NaN</td>\n",
       "      <td>NaN</td>\n",
       "      <td>NaN</td>\n",
       "      <td>NaN</td>\n",
       "      <td>NaN</td>\n",
       "      <td>NaN</td>\n",
       "      <td>NaN</td>\n",
       "      <td>NaN</td>\n",
       "    </tr>\n",
       "    <tr>\n",
       "      <td>2</td>\n",
       "      <td>John Doe</td>\n",
       "      <td>NaN</td>\n",
       "      <td>jd@jd.com</td>\n",
       "      <td>Friday, April 19, 2019 8:39 PM</td>\n",
       "      <td>42450298-7f34-4f5b-8283-3415fe7f15a0</td>\n",
       "      <td>UberX</td>\n",
       "      <td>$0.30</td>\n",
       "      <td>$4.40</td>\n",
       "      <td>$1.79</td>\n",
       "      <td>NaN</td>\n",
       "      <td>...</td>\n",
       "      <td>NaN</td>\n",
       "      <td>$6.87</td>\n",
       "      <td>NaN</td>\n",
       "      <td>NaN</td>\n",
       "      <td>NaN</td>\n",
       "      <td>NaN</td>\n",
       "      <td>NaN</td>\n",
       "      <td>NaN</td>\n",
       "      <td>NaN</td>\n",
       "      <td>NaN</td>\n",
       "    </tr>\n",
       "    <tr>\n",
       "      <td>3</td>\n",
       "      <td>John Doe</td>\n",
       "      <td>NaN</td>\n",
       "      <td>jd@jd.com</td>\n",
       "      <td>Friday, April 19, 2019 10:50 PM</td>\n",
       "      <td>6d5371a9-806f-4949-b506-edfffd985ff6</td>\n",
       "      <td>UberX</td>\n",
       "      <td>$0.30</td>\n",
       "      <td>$1.11</td>\n",
       "      <td>$0.60</td>\n",
       "      <td>$0.62</td>\n",
       "      <td>...</td>\n",
       "      <td>NaN</td>\n",
       "      <td>$2.97</td>\n",
       "      <td>NaN</td>\n",
       "      <td>NaN</td>\n",
       "      <td>NaN</td>\n",
       "      <td>NaN</td>\n",
       "      <td>NaN</td>\n",
       "      <td>NaN</td>\n",
       "      <td>NaN</td>\n",
       "      <td>NaN</td>\n",
       "    </tr>\n",
       "    <tr>\n",
       "      <td>4</td>\n",
       "      <td>John Doe</td>\n",
       "      <td>NaN</td>\n",
       "      <td>jd@jd.com</td>\n",
       "      <td>Wednesday, April 17, 2019 8:08 PM</td>\n",
       "      <td>aaa4e703-53af-4b54-ae35-314684a1e330</td>\n",
       "      <td>UberX</td>\n",
       "      <td>$0.30</td>\n",
       "      <td>$1.10</td>\n",
       "      <td>$0.69</td>\n",
       "      <td>$0.54</td>\n",
       "      <td>...</td>\n",
       "      <td>NaN</td>\n",
       "      <td>$7.74</td>\n",
       "      <td>NaN</td>\n",
       "      <td>NaN</td>\n",
       "      <td>NaN</td>\n",
       "      <td>NaN</td>\n",
       "      <td>NaN</td>\n",
       "      <td>NaN</td>\n",
       "      <td>NaN</td>\n",
       "      <td>NaN</td>\n",
       "    </tr>\n",
       "  </tbody>\n",
       "</table>\n",
       "<p>5 rows × 25 columns</p>\n",
       "</div>"
      ],
      "text/plain": [
       "  Driver Name  Phone Number      Email                          Date/Time  \\\n",
       "0    John Doe           NaN  jd@jd.com  Thursday, April 18, 2019 10:24 PM   \n",
       "1    John Doe           NaN  jd@jd.com   Thursday, April 18, 2019 9:48 PM   \n",
       "2    John Doe           NaN  jd@jd.com     Friday, April 19, 2019 8:39 PM   \n",
       "3    John Doe           NaN  jd@jd.com    Friday, April 19, 2019 10:50 PM   \n",
       "4    John Doe           NaN  jd@jd.com  Wednesday, April 17, 2019 8:08 PM   \n",
       "\n",
       "                                Trip ID   Type Base Fare Distance   Time  \\\n",
       "0  9bce9679-2755-4c90-9689-f2de69c8f817  UberX     $0.30    $0.97  $0.68   \n",
       "1  bb83ec2b-fd4c-457d-ae92-0a216624d85b  UberX     $0.30    $4.10  $2.09   \n",
       "2  42450298-7f34-4f5b-8283-3415fe7f15a0  UberX     $0.30    $4.40  $1.79   \n",
       "3  6d5371a9-806f-4949-b506-edfffd985ff6  UberX     $0.30    $1.11  $0.60   \n",
       "4  aaa4e703-53af-4b54-ae35-314684a1e330  UberX     $0.30    $1.10  $0.69   \n",
       "\n",
       "  Min Fare Supplement  ... Promotions  Total Long Pickup Fee  \\\n",
       "0               $0.68  ...        NaN  $2.73             NaN   \n",
       "1                 NaN  ...        NaN  $9.86             NaN   \n",
       "2                 NaN  ...        NaN  $6.87             NaN   \n",
       "3               $0.62  ...        NaN  $2.97             NaN   \n",
       "4               $0.54  ...        NaN  $7.74             NaN   \n",
       "\n",
       "  Optional Insurance Consecutive Trips Promotion  Share Adjustment  \\\n",
       "0                NaN                         NaN               NaN   \n",
       "1                NaN                         NaN               NaN   \n",
       "2                NaN                         NaN               NaN   \n",
       "3                NaN                         NaN               NaN   \n",
       "4                NaN                         NaN               NaN   \n",
       "\n",
       "  Quest Promotion Fare Adjustment Platinum Reward  Cleaning Repairs  \n",
       "0             NaN             NaN             NaN               NaN  \n",
       "1             NaN             NaN             NaN               NaN  \n",
       "2             NaN             NaN             NaN               NaN  \n",
       "3             NaN             NaN             NaN               NaN  \n",
       "4             NaN             NaN             NaN               NaN  \n",
       "\n",
       "[5 rows x 25 columns]"
      ]
     },
     "execution_count": 36,
     "metadata": {},
     "output_type": "execute_result"
    }
   ],
   "source": [
    "uber_dataset.head()"
   ]
  },
  {
   "cell_type": "code",
   "execution_count": 37,
   "metadata": {},
   "outputs": [
    {
     "data": {
      "text/html": [
       "<div>\n",
       "<style scoped>\n",
       "    .dataframe tbody tr th:only-of-type {\n",
       "        vertical-align: middle;\n",
       "    }\n",
       "\n",
       "    .dataframe tbody tr th {\n",
       "        vertical-align: top;\n",
       "    }\n",
       "\n",
       "    .dataframe thead th {\n",
       "        text-align: right;\n",
       "    }\n",
       "</style>\n",
       "<table border=\"1\" class=\"dataframe\">\n",
       "  <thead>\n",
       "    <tr style=\"text-align: right;\">\n",
       "      <th></th>\n",
       "      <th>Date/Time</th>\n",
       "      <th>Type</th>\n",
       "      <th>Base Fare</th>\n",
       "      <th>Distance</th>\n",
       "      <th>Time</th>\n",
       "      <th>Min Fare Supplement</th>\n",
       "      <th>Cancellation</th>\n",
       "      <th>Tip</th>\n",
       "      <th>Surge</th>\n",
       "      <th>Diamond Reward</th>\n",
       "      <th>...</th>\n",
       "      <th>Promotions</th>\n",
       "      <th>Total</th>\n",
       "      <th>Long Pickup Fee</th>\n",
       "      <th>Optional Insurance</th>\n",
       "      <th>Consecutive Trips Promotion</th>\n",
       "      <th>Share Adjustment</th>\n",
       "      <th>Quest Promotion</th>\n",
       "      <th>Fare Adjustment</th>\n",
       "      <th>Platinum Reward</th>\n",
       "      <th>Cleaning Repairs</th>\n",
       "    </tr>\n",
       "  </thead>\n",
       "  <tbody>\n",
       "    <tr>\n",
       "      <td>0</td>\n",
       "      <td>Thursday, April 18, 2019 10:24 PM</td>\n",
       "      <td>UberX</td>\n",
       "      <td>$0.30</td>\n",
       "      <td>$0.97</td>\n",
       "      <td>$0.68</td>\n",
       "      <td>$0.68</td>\n",
       "      <td>NaN</td>\n",
       "      <td>NaN</td>\n",
       "      <td>NaN</td>\n",
       "      <td>$0.10</td>\n",
       "      <td>...</td>\n",
       "      <td>NaN</td>\n",
       "      <td>$2.73</td>\n",
       "      <td>NaN</td>\n",
       "      <td>NaN</td>\n",
       "      <td>NaN</td>\n",
       "      <td>NaN</td>\n",
       "      <td>NaN</td>\n",
       "      <td>NaN</td>\n",
       "      <td>NaN</td>\n",
       "      <td>NaN</td>\n",
       "    </tr>\n",
       "    <tr>\n",
       "      <td>1</td>\n",
       "      <td>Thursday, April 18, 2019 9:48 PM</td>\n",
       "      <td>UberX</td>\n",
       "      <td>$0.30</td>\n",
       "      <td>$4.10</td>\n",
       "      <td>$2.09</td>\n",
       "      <td>NaN</td>\n",
       "      <td>NaN</td>\n",
       "      <td>$3.00</td>\n",
       "      <td>NaN</td>\n",
       "      <td>$0.37</td>\n",
       "      <td>...</td>\n",
       "      <td>NaN</td>\n",
       "      <td>$9.86</td>\n",
       "      <td>NaN</td>\n",
       "      <td>NaN</td>\n",
       "      <td>NaN</td>\n",
       "      <td>NaN</td>\n",
       "      <td>NaN</td>\n",
       "      <td>NaN</td>\n",
       "      <td>NaN</td>\n",
       "      <td>NaN</td>\n",
       "    </tr>\n",
       "    <tr>\n",
       "      <td>2</td>\n",
       "      <td>Friday, April 19, 2019 8:39 PM</td>\n",
       "      <td>UberX</td>\n",
       "      <td>$0.30</td>\n",
       "      <td>$4.40</td>\n",
       "      <td>$1.79</td>\n",
       "      <td>NaN</td>\n",
       "      <td>NaN</td>\n",
       "      <td>NaN</td>\n",
       "      <td>NaN</td>\n",
       "      <td>$0.38</td>\n",
       "      <td>...</td>\n",
       "      <td>NaN</td>\n",
       "      <td>$6.87</td>\n",
       "      <td>NaN</td>\n",
       "      <td>NaN</td>\n",
       "      <td>NaN</td>\n",
       "      <td>NaN</td>\n",
       "      <td>NaN</td>\n",
       "      <td>NaN</td>\n",
       "      <td>NaN</td>\n",
       "      <td>NaN</td>\n",
       "    </tr>\n",
       "    <tr>\n",
       "      <td>3</td>\n",
       "      <td>Friday, April 19, 2019 10:50 PM</td>\n",
       "      <td>UberX</td>\n",
       "      <td>$0.30</td>\n",
       "      <td>$1.11</td>\n",
       "      <td>$0.60</td>\n",
       "      <td>$0.62</td>\n",
       "      <td>NaN</td>\n",
       "      <td>NaN</td>\n",
       "      <td>NaN</td>\n",
       "      <td>$0.11</td>\n",
       "      <td>...</td>\n",
       "      <td>NaN</td>\n",
       "      <td>$2.97</td>\n",
       "      <td>NaN</td>\n",
       "      <td>NaN</td>\n",
       "      <td>NaN</td>\n",
       "      <td>NaN</td>\n",
       "      <td>NaN</td>\n",
       "      <td>NaN</td>\n",
       "      <td>NaN</td>\n",
       "      <td>NaN</td>\n",
       "    </tr>\n",
       "    <tr>\n",
       "      <td>4</td>\n",
       "      <td>Wednesday, April 17, 2019 8:08 PM</td>\n",
       "      <td>UberX</td>\n",
       "      <td>$0.30</td>\n",
       "      <td>$1.10</td>\n",
       "      <td>$0.69</td>\n",
       "      <td>$0.54</td>\n",
       "      <td>NaN</td>\n",
       "      <td>$5.00</td>\n",
       "      <td>NaN</td>\n",
       "      <td>$0.11</td>\n",
       "      <td>...</td>\n",
       "      <td>NaN</td>\n",
       "      <td>$7.74</td>\n",
       "      <td>NaN</td>\n",
       "      <td>NaN</td>\n",
       "      <td>NaN</td>\n",
       "      <td>NaN</td>\n",
       "      <td>NaN</td>\n",
       "      <td>NaN</td>\n",
       "      <td>NaN</td>\n",
       "      <td>NaN</td>\n",
       "    </tr>\n",
       "    <tr>\n",
       "      <td>...</td>\n",
       "      <td>...</td>\n",
       "      <td>...</td>\n",
       "      <td>...</td>\n",
       "      <td>...</td>\n",
       "      <td>...</td>\n",
       "      <td>...</td>\n",
       "      <td>...</td>\n",
       "      <td>...</td>\n",
       "      <td>...</td>\n",
       "      <td>...</td>\n",
       "      <td>...</td>\n",
       "      <td>...</td>\n",
       "      <td>...</td>\n",
       "      <td>...</td>\n",
       "      <td>...</td>\n",
       "      <td>...</td>\n",
       "      <td>...</td>\n",
       "      <td>...</td>\n",
       "      <td>...</td>\n",
       "      <td>...</td>\n",
       "      <td>...</td>\n",
       "    </tr>\n",
       "    <tr>\n",
       "      <td>3099</td>\n",
       "      <td>Saturday, September 22, 2018 6:28 PM</td>\n",
       "      <td>UberX</td>\n",
       "      <td>$0.30</td>\n",
       "      <td>$10.95</td>\n",
       "      <td>$1.24</td>\n",
       "      <td>NaN</td>\n",
       "      <td>NaN</td>\n",
       "      <td>NaN</td>\n",
       "      <td>NaN</td>\n",
       "      <td>NaN</td>\n",
       "      <td>...</td>\n",
       "      <td>NaN</td>\n",
       "      <td>$12.49</td>\n",
       "      <td>NaN</td>\n",
       "      <td>NaN</td>\n",
       "      <td>NaN</td>\n",
       "      <td>NaN</td>\n",
       "      <td>NaN</td>\n",
       "      <td>NaN</td>\n",
       "      <td>NaN</td>\n",
       "      <td>NaN</td>\n",
       "    </tr>\n",
       "    <tr>\n",
       "      <td>3100</td>\n",
       "      <td>Monday, September 24, 2018 5:32 PM</td>\n",
       "      <td>UberX</td>\n",
       "      <td>$0.30</td>\n",
       "      <td>$0.92</td>\n",
       "      <td>$0.39</td>\n",
       "      <td>$1.01</td>\n",
       "      <td>NaN</td>\n",
       "      <td>$1.00</td>\n",
       "      <td>$3.25</td>\n",
       "      <td>NaN</td>\n",
       "      <td>...</td>\n",
       "      <td>NaN</td>\n",
       "      <td>$6.87</td>\n",
       "      <td>NaN</td>\n",
       "      <td>NaN</td>\n",
       "      <td>NaN</td>\n",
       "      <td>NaN</td>\n",
       "      <td>NaN</td>\n",
       "      <td>NaN</td>\n",
       "      <td>NaN</td>\n",
       "      <td>NaN</td>\n",
       "    </tr>\n",
       "    <tr>\n",
       "      <td>3101</td>\n",
       "      <td>Saturday, September 22, 2018 6:48 PM</td>\n",
       "      <td>UberX</td>\n",
       "      <td>$0.30</td>\n",
       "      <td>$17.39</td>\n",
       "      <td>$1.95</td>\n",
       "      <td>NaN</td>\n",
       "      <td>NaN</td>\n",
       "      <td>NaN</td>\n",
       "      <td>$3.25</td>\n",
       "      <td>NaN</td>\n",
       "      <td>...</td>\n",
       "      <td>NaN</td>\n",
       "      <td>$22.89</td>\n",
       "      <td>NaN</td>\n",
       "      <td>NaN</td>\n",
       "      <td>NaN</td>\n",
       "      <td>NaN</td>\n",
       "      <td>NaN</td>\n",
       "      <td>NaN</td>\n",
       "      <td>NaN</td>\n",
       "      <td>NaN</td>\n",
       "    </tr>\n",
       "    <tr>\n",
       "      <td>3102</td>\n",
       "      <td>Monday, September 24, 2018 4:54 PM</td>\n",
       "      <td>UberX</td>\n",
       "      <td>$0.30</td>\n",
       "      <td>$0.36</td>\n",
       "      <td>$0.21</td>\n",
       "      <td>$1.76</td>\n",
       "      <td>NaN</td>\n",
       "      <td>NaN</td>\n",
       "      <td>NaN</td>\n",
       "      <td>NaN</td>\n",
       "      <td>...</td>\n",
       "      <td>NaN</td>\n",
       "      <td>$2.97</td>\n",
       "      <td>NaN</td>\n",
       "      <td>NaN</td>\n",
       "      <td>NaN</td>\n",
       "      <td>NaN</td>\n",
       "      <td>NaN</td>\n",
       "      <td>NaN</td>\n",
       "      <td>NaN</td>\n",
       "      <td>NaN</td>\n",
       "    </tr>\n",
       "    <tr>\n",
       "      <td>3103</td>\n",
       "      <td>Saturday, September 22, 2018 9:11 PM</td>\n",
       "      <td>UberX</td>\n",
       "      <td>$0.30</td>\n",
       "      <td>$4.46</td>\n",
       "      <td>$0.92</td>\n",
       "      <td>NaN</td>\n",
       "      <td>NaN</td>\n",
       "      <td>NaN</td>\n",
       "      <td>NaN</td>\n",
       "      <td>NaN</td>\n",
       "      <td>...</td>\n",
       "      <td>NaN</td>\n",
       "      <td>$5.68</td>\n",
       "      <td>NaN</td>\n",
       "      <td>NaN</td>\n",
       "      <td>NaN</td>\n",
       "      <td>NaN</td>\n",
       "      <td>NaN</td>\n",
       "      <td>NaN</td>\n",
       "      <td>NaN</td>\n",
       "      <td>NaN</td>\n",
       "    </tr>\n",
       "  </tbody>\n",
       "</table>\n",
       "<p>3104 rows × 21 columns</p>\n",
       "</div>"
      ],
      "text/plain": [
       "                                 Date/Time   Type Base Fare Distance   Time  \\\n",
       "0        Thursday, April 18, 2019 10:24 PM  UberX     $0.30    $0.97  $0.68   \n",
       "1         Thursday, April 18, 2019 9:48 PM  UberX     $0.30    $4.10  $2.09   \n",
       "2           Friday, April 19, 2019 8:39 PM  UberX     $0.30    $4.40  $1.79   \n",
       "3          Friday, April 19, 2019 10:50 PM  UberX     $0.30    $1.11  $0.60   \n",
       "4        Wednesday, April 17, 2019 8:08 PM  UberX     $0.30    $1.10  $0.69   \n",
       "...                                    ...    ...       ...      ...    ...   \n",
       "3099  Saturday, September 22, 2018 6:28 PM  UberX     $0.30   $10.95  $1.24   \n",
       "3100    Monday, September 24, 2018 5:32 PM  UberX     $0.30    $0.92  $0.39   \n",
       "3101  Saturday, September 22, 2018 6:48 PM  UberX     $0.30   $17.39  $1.95   \n",
       "3102    Monday, September 24, 2018 4:54 PM  UberX     $0.30    $0.36  $0.21   \n",
       "3103  Saturday, September 22, 2018 9:11 PM  UberX     $0.30    $4.46  $0.92   \n",
       "\n",
       "     Min Fare Supplement Cancellation    Tip  Surge Diamond Reward  ...  \\\n",
       "0                  $0.68          NaN    NaN    NaN          $0.10  ...   \n",
       "1                    NaN          NaN  $3.00    NaN          $0.37  ...   \n",
       "2                    NaN          NaN    NaN    NaN          $0.38  ...   \n",
       "3                  $0.62          NaN    NaN    NaN          $0.11  ...   \n",
       "4                  $0.54          NaN  $5.00    NaN          $0.11  ...   \n",
       "...                  ...          ...    ...    ...            ...  ...   \n",
       "3099                 NaN          NaN    NaN    NaN            NaN  ...   \n",
       "3100               $1.01          NaN  $1.00  $3.25            NaN  ...   \n",
       "3101                 NaN          NaN    NaN  $3.25            NaN  ...   \n",
       "3102               $1.76          NaN    NaN    NaN            NaN  ...   \n",
       "3103                 NaN          NaN    NaN    NaN            NaN  ...   \n",
       "\n",
       "     Promotions   Total Long Pickup Fee Optional Insurance  \\\n",
       "0           NaN   $2.73             NaN                NaN   \n",
       "1           NaN   $9.86             NaN                NaN   \n",
       "2           NaN   $6.87             NaN                NaN   \n",
       "3           NaN   $2.97             NaN                NaN   \n",
       "4           NaN   $7.74             NaN                NaN   \n",
       "...         ...     ...             ...                ...   \n",
       "3099        NaN  $12.49             NaN                NaN   \n",
       "3100        NaN   $6.87             NaN                NaN   \n",
       "3101        NaN  $22.89             NaN                NaN   \n",
       "3102        NaN   $2.97             NaN                NaN   \n",
       "3103        NaN   $5.68             NaN                NaN   \n",
       "\n",
       "     Consecutive Trips Promotion  Share Adjustment Quest Promotion  \\\n",
       "0                            NaN               NaN             NaN   \n",
       "1                            NaN               NaN             NaN   \n",
       "2                            NaN               NaN             NaN   \n",
       "3                            NaN               NaN             NaN   \n",
       "4                            NaN               NaN             NaN   \n",
       "...                          ...               ...             ...   \n",
       "3099                         NaN               NaN             NaN   \n",
       "3100                         NaN               NaN             NaN   \n",
       "3101                         NaN               NaN             NaN   \n",
       "3102                         NaN               NaN             NaN   \n",
       "3103                         NaN               NaN             NaN   \n",
       "\n",
       "      Fare Adjustment Platinum Reward Cleaning Repairs  \n",
       "0                 NaN             NaN              NaN  \n",
       "1                 NaN             NaN              NaN  \n",
       "2                 NaN             NaN              NaN  \n",
       "3                 NaN             NaN              NaN  \n",
       "4                 NaN             NaN              NaN  \n",
       "...               ...             ...              ...  \n",
       "3099              NaN             NaN              NaN  \n",
       "3100              NaN             NaN              NaN  \n",
       "3101              NaN             NaN              NaN  \n",
       "3102              NaN             NaN              NaN  \n",
       "3103              NaN             NaN              NaN  \n",
       "\n",
       "[3104 rows x 21 columns]"
      ]
     },
     "execution_count": 37,
     "metadata": {},
     "output_type": "execute_result"
    }
   ],
   "source": [
    "df.drop(['Phone Number', \"Driver Name\", \"Email\", \"Trip ID\"], axis=1)"
   ]
  },
  {
   "cell_type": "code",
   "execution_count": 39,
   "metadata": {},
   "outputs": [],
   "source": [
    "df['Total'] = df['Total'].map(lambda x: x.lstrip('$'))\n",
    "df['Total'] = df['Total'].map(lambda x: x.lstrip('-$'))"
   ]
  },
  {
   "cell_type": "code",
   "execution_count": 41,
   "metadata": {},
   "outputs": [],
   "source": [
    "#df.head()"
   ]
  },
  {
   "cell_type": "code",
   "execution_count": 42,
   "metadata": {},
   "outputs": [],
   "source": [
    "df['Distance'] = df['Distance'].astype(str).str.lstrip('$')\n",
    "df['Distance'] = df['Distance'].astype(str).str.lstrip('-$')"
   ]
  },
  {
   "cell_type": "code",
   "execution_count": 43,
   "metadata": {},
   "outputs": [],
   "source": [
    "df['Base Fare'] = df['Base Fare'].astype(str).str.lstrip('$')\n",
    "df['Base Fare'] = df['Base Fare'].astype(str).str.lstrip('-$')"
   ]
  },
  {
   "cell_type": "code",
   "execution_count": 44,
   "metadata": {},
   "outputs": [],
   "source": [
    "df['Time'] = df['Time'].astype(str).str.lstrip('$')\n",
    "df['Time'] = df['Time'].astype(str).str.lstrip('-$')"
   ]
  },
  {
   "cell_type": "code",
   "execution_count": 45,
   "metadata": {},
   "outputs": [],
   "source": [
    "df['Min Fare Supplement'] = df['Min Fare Supplement'].astype(str).str.lstrip('$')\n",
    "df['Min Fare Supplement'] = df['Min Fare Supplement'].astype(str).str.lstrip('-$')\n",
    "df['Min Fare Supplement'] = df['Min Fare Supplement'].fillna(0)"
   ]
  },
  {
   "cell_type": "code",
   "execution_count": 46,
   "metadata": {},
   "outputs": [],
   "source": [
    "df['Promotions'] = df['Promotions'].astype(str).str.lstrip('$')\n",
    "df['Promotions'] = df['Promotions'].astype(str).str.lstrip('-$')\n",
    "df['Promotions'] = df['Promotions'].fillna(0)"
   ]
  },
  {
   "cell_type": "code",
   "execution_count": 47,
   "metadata": {},
   "outputs": [],
   "source": [
    "df['Long Pickup Fee'] = df['Long Pickup Fee'].astype(str).str.lstrip('$')\n",
    "df['Long Pickup Fee'] = df['Long Pickup Fee'].astype(str).str.lstrip('-$')\n",
    "df['Long Pickup Fee'] = df['Long Pickup Fee'].fillna(0)"
   ]
  },
  {
   "cell_type": "code",
   "execution_count": 48,
   "metadata": {},
   "outputs": [],
   "source": [
    "df['Optional Insurance'] = df['Optional Insurance'].astype(str).str.lstrip('$')\n",
    "df['Optional Insurance'] = df['Optional Insurance'].astype(str).str.lstrip('-$')\n",
    "df['Optional Insurance'] = df['Optional Insurance'].fillna(0)"
   ]
  },
  {
   "cell_type": "code",
   "execution_count": 49,
   "metadata": {},
   "outputs": [],
   "source": [
    "df['Consecutive Trips Promotion'] = df['Consecutive Trips Promotion'].astype(str).str.lstrip('$')\n",
    "df['Consecutive Trips Promotion'] = df['Consecutive Trips Promotion'].astype(str).str.lstrip('-$')\n",
    "df['Consecutive Trips Promotion'] = df['Consecutive Trips Promotion'].fillna(0)"
   ]
  },
  {
   "cell_type": "code",
   "execution_count": 50,
   "metadata": {},
   "outputs": [],
   "source": [
    "df['Share Adjustment'] = df['Share Adjustment'].astype(str).str.lstrip('$')\n",
    "df['Share Adjustment'] = df['Share Adjustment'].astype(str).str.lstrip('-$')\n",
    "df['Share Adjustment'] = df['Share Adjustment'].fillna(0)"
   ]
  },
  {
   "cell_type": "code",
   "execution_count": 51,
   "metadata": {},
   "outputs": [],
   "source": [
    "df['Quest Promotion'] = df['Quest Promotion'].astype(str).str.lstrip('$')\n",
    "df['Quest Promotion'] = df['Quest Promotion'].astype(str).str.lstrip('-$')\n",
    "df['Quest Promotion'] = df['Quest Promotion'].fillna(0)"
   ]
  },
  {
   "cell_type": "code",
   "execution_count": 52,
   "metadata": {},
   "outputs": [],
   "source": [
    "df['Fare Adjustment'] = df['Fare Adjustment'].astype(str).str.lstrip('$')\n",
    "df['Fare Adjustment'] = df['Fare Adjustment'].astype(str).str.lstrip('-$')\n",
    "df['Fare Adjustment'] = df['Fare Adjustment'].fillna(0)"
   ]
  },
  {
   "cell_type": "code",
   "execution_count": 53,
   "metadata": {},
   "outputs": [],
   "source": [
    "df['Platinum Reward'] = df['Platinum Reward'].astype(str).str.lstrip('$')\n",
    "df['Platinum Reward'] = df['Platinum Reward'].astype(str).str.lstrip('-$')\n",
    "df['Platinum Reward'] = df['Platinum Reward'].fillna(0)"
   ]
  },
  {
   "cell_type": "code",
   "execution_count": 54,
   "metadata": {},
   "outputs": [],
   "source": [
    "df['Cleaning Repairs'] = df['Cleaning Repairs'].astype(str).str.lstrip('$')\n",
    "df['Cleaning Repairs'] = df['Cleaning Repairs'].astype(str).str.lstrip('-$')\n",
    "df['Cleaning Repairs'] = df['Cleaning Repairs'].fillna(0)"
   ]
  },
  {
   "cell_type": "code",
   "execution_count": 55,
   "metadata": {},
   "outputs": [],
   "source": [
    "df['Tip'] = df['Tip'].astype(str).str.lstrip('$')\n",
    "df['Tip'] = df['Tip'].astype(str).str.lstrip('-$')\n",
    "df['Tip'] = df['Tip'].fillna(0)"
   ]
  },
  {
   "cell_type": "code",
   "execution_count": 56,
   "metadata": {},
   "outputs": [],
   "source": [
    "df['Diamond Reward'] = df['Diamond Reward'].astype(str).str.lstrip('$')\n",
    "df['Diamond Reward'] = df['Diamond Reward'].astype(str).str.lstrip('-$')\n",
    "df['Diamond Reward'] = df['Diamond Reward'].fillna(0)"
   ]
  },
  {
   "cell_type": "code",
   "execution_count": 57,
   "metadata": {},
   "outputs": [],
   "source": [
    "df['Wait Time'] = df['Wait Time'].astype(str).str.lstrip('$')\n",
    "df['Wait Time'] = df['Wait Time'].astype(str).str.lstrip('-$')\n",
    "df['Wait Time'] = df['Wait Time'].fillna(0)"
   ]
  },
  {
   "cell_type": "code",
   "execution_count": 58,
   "metadata": {},
   "outputs": [],
   "source": [
    "df['Cancellation'] = df['Cancellation'].astype(str).str.lstrip('$')\n",
    "df['Cancellation'] = df['Cancellation'].astype(str).str.lstrip('-$')\n",
    "df['Cancellation'] = df['Cancellation'].fillna(0)"
   ]
  },
  {
   "cell_type": "code",
   "execution_count": 59,
   "metadata": {},
   "outputs": [],
   "source": [
    "df['Surge'] = df['Surge'].astype(str).str.lstrip('$')\n",
    "df['Surge'] = df['Surge'].astype(str).str.lstrip('-$')\n",
    "df['Surge'] = df['Surge'].fillna(0)\n"
   ]
  },
  {
   "cell_type": "code",
   "execution_count": 61,
   "metadata": {},
   "outputs": [],
   "source": [
    "df['Fare Adjustment'] = df['Fare Adjustment'].astype(str).str.lstrip('$')\n",
    "df['Fare Adjustment'] = df['Fare Adjustment'].astype(str).str.lstrip('-$')\n",
    "df['Fare Adjustment'] = df['Fare Adjustment'].fillna(0)\n"
   ]
  },
  {
   "cell_type": "code",
   "execution_count": 62,
   "metadata": {},
   "outputs": [
    {
     "data": {
      "text/html": [
       "<div>\n",
       "<style scoped>\n",
       "    .dataframe tbody tr th:only-of-type {\n",
       "        vertical-align: middle;\n",
       "    }\n",
       "\n",
       "    .dataframe tbody tr th {\n",
       "        vertical-align: top;\n",
       "    }\n",
       "\n",
       "    .dataframe thead th {\n",
       "        text-align: right;\n",
       "    }\n",
       "</style>\n",
       "<table border=\"1\" class=\"dataframe\">\n",
       "  <thead>\n",
       "    <tr style=\"text-align: right;\">\n",
       "      <th></th>\n",
       "      <th>Driver Name</th>\n",
       "      <th>Phone Number</th>\n",
       "      <th>Email</th>\n",
       "      <th>Date/Time</th>\n",
       "      <th>Trip ID</th>\n",
       "      <th>Type</th>\n",
       "      <th>Base Fare</th>\n",
       "      <th>Distance</th>\n",
       "      <th>Time</th>\n",
       "      <th>Min Fare Supplement</th>\n",
       "      <th>...</th>\n",
       "      <th>Promotions</th>\n",
       "      <th>Total</th>\n",
       "      <th>Long Pickup Fee</th>\n",
       "      <th>Optional Insurance</th>\n",
       "      <th>Consecutive Trips Promotion</th>\n",
       "      <th>Share Adjustment</th>\n",
       "      <th>Quest Promotion</th>\n",
       "      <th>Fare Adjustment</th>\n",
       "      <th>Platinum Reward</th>\n",
       "      <th>Cleaning Repairs</th>\n",
       "    </tr>\n",
       "  </thead>\n",
       "  <tbody>\n",
       "    <tr>\n",
       "      <td>0</td>\n",
       "      <td>John Doe</td>\n",
       "      <td>NaN</td>\n",
       "      <td>jd@jd.com</td>\n",
       "      <td>Thursday, April 18, 2019 10:24 PM</td>\n",
       "      <td>9bce9679-2755-4c90-9689-f2de69c8f817</td>\n",
       "      <td>UberX</td>\n",
       "      <td>0.30</td>\n",
       "      <td>0.97</td>\n",
       "      <td>0.68</td>\n",
       "      <td>0.68</td>\n",
       "      <td>...</td>\n",
       "      <td>nan</td>\n",
       "      <td>2.73</td>\n",
       "      <td>nan</td>\n",
       "      <td>nan</td>\n",
       "      <td>nan</td>\n",
       "      <td>nan</td>\n",
       "      <td>nan</td>\n",
       "      <td>nan</td>\n",
       "      <td>nan</td>\n",
       "      <td>nan</td>\n",
       "    </tr>\n",
       "    <tr>\n",
       "      <td>1</td>\n",
       "      <td>John Doe</td>\n",
       "      <td>NaN</td>\n",
       "      <td>jd@jd.com</td>\n",
       "      <td>Thursday, April 18, 2019 9:48 PM</td>\n",
       "      <td>bb83ec2b-fd4c-457d-ae92-0a216624d85b</td>\n",
       "      <td>UberX</td>\n",
       "      <td>0.30</td>\n",
       "      <td>4.10</td>\n",
       "      <td>2.09</td>\n",
       "      <td>nan</td>\n",
       "      <td>...</td>\n",
       "      <td>nan</td>\n",
       "      <td>9.86</td>\n",
       "      <td>nan</td>\n",
       "      <td>nan</td>\n",
       "      <td>nan</td>\n",
       "      <td>nan</td>\n",
       "      <td>nan</td>\n",
       "      <td>nan</td>\n",
       "      <td>nan</td>\n",
       "      <td>nan</td>\n",
       "    </tr>\n",
       "    <tr>\n",
       "      <td>2</td>\n",
       "      <td>John Doe</td>\n",
       "      <td>NaN</td>\n",
       "      <td>jd@jd.com</td>\n",
       "      <td>Friday, April 19, 2019 8:39 PM</td>\n",
       "      <td>42450298-7f34-4f5b-8283-3415fe7f15a0</td>\n",
       "      <td>UberX</td>\n",
       "      <td>0.30</td>\n",
       "      <td>4.40</td>\n",
       "      <td>1.79</td>\n",
       "      <td>nan</td>\n",
       "      <td>...</td>\n",
       "      <td>nan</td>\n",
       "      <td>6.87</td>\n",
       "      <td>nan</td>\n",
       "      <td>nan</td>\n",
       "      <td>nan</td>\n",
       "      <td>nan</td>\n",
       "      <td>nan</td>\n",
       "      <td>nan</td>\n",
       "      <td>nan</td>\n",
       "      <td>nan</td>\n",
       "    </tr>\n",
       "    <tr>\n",
       "      <td>3</td>\n",
       "      <td>John Doe</td>\n",
       "      <td>NaN</td>\n",
       "      <td>jd@jd.com</td>\n",
       "      <td>Friday, April 19, 2019 10:50 PM</td>\n",
       "      <td>6d5371a9-806f-4949-b506-edfffd985ff6</td>\n",
       "      <td>UberX</td>\n",
       "      <td>0.30</td>\n",
       "      <td>1.11</td>\n",
       "      <td>0.60</td>\n",
       "      <td>0.62</td>\n",
       "      <td>...</td>\n",
       "      <td>nan</td>\n",
       "      <td>2.97</td>\n",
       "      <td>nan</td>\n",
       "      <td>nan</td>\n",
       "      <td>nan</td>\n",
       "      <td>nan</td>\n",
       "      <td>nan</td>\n",
       "      <td>nan</td>\n",
       "      <td>nan</td>\n",
       "      <td>nan</td>\n",
       "    </tr>\n",
       "    <tr>\n",
       "      <td>4</td>\n",
       "      <td>John Doe</td>\n",
       "      <td>NaN</td>\n",
       "      <td>jd@jd.com</td>\n",
       "      <td>Wednesday, April 17, 2019 8:08 PM</td>\n",
       "      <td>aaa4e703-53af-4b54-ae35-314684a1e330</td>\n",
       "      <td>UberX</td>\n",
       "      <td>0.30</td>\n",
       "      <td>1.10</td>\n",
       "      <td>0.69</td>\n",
       "      <td>0.54</td>\n",
       "      <td>...</td>\n",
       "      <td>nan</td>\n",
       "      <td>7.74</td>\n",
       "      <td>nan</td>\n",
       "      <td>nan</td>\n",
       "      <td>nan</td>\n",
       "      <td>nan</td>\n",
       "      <td>nan</td>\n",
       "      <td>nan</td>\n",
       "      <td>nan</td>\n",
       "      <td>nan</td>\n",
       "    </tr>\n",
       "  </tbody>\n",
       "</table>\n",
       "<p>5 rows × 25 columns</p>\n",
       "</div>"
      ],
      "text/plain": [
       "  Driver Name  Phone Number      Email                          Date/Time  \\\n",
       "0    John Doe           NaN  jd@jd.com  Thursday, April 18, 2019 10:24 PM   \n",
       "1    John Doe           NaN  jd@jd.com   Thursday, April 18, 2019 9:48 PM   \n",
       "2    John Doe           NaN  jd@jd.com     Friday, April 19, 2019 8:39 PM   \n",
       "3    John Doe           NaN  jd@jd.com    Friday, April 19, 2019 10:50 PM   \n",
       "4    John Doe           NaN  jd@jd.com  Wednesday, April 17, 2019 8:08 PM   \n",
       "\n",
       "                                Trip ID   Type Base Fare Distance  Time  \\\n",
       "0  9bce9679-2755-4c90-9689-f2de69c8f817  UberX      0.30     0.97  0.68   \n",
       "1  bb83ec2b-fd4c-457d-ae92-0a216624d85b  UberX      0.30     4.10  2.09   \n",
       "2  42450298-7f34-4f5b-8283-3415fe7f15a0  UberX      0.30     4.40  1.79   \n",
       "3  6d5371a9-806f-4949-b506-edfffd985ff6  UberX      0.30     1.11  0.60   \n",
       "4  aaa4e703-53af-4b54-ae35-314684a1e330  UberX      0.30     1.10  0.69   \n",
       "\n",
       "  Min Fare Supplement  ... Promotions Total Long Pickup Fee  \\\n",
       "0                0.68  ...        nan  2.73             nan   \n",
       "1                 nan  ...        nan  9.86             nan   \n",
       "2                 nan  ...        nan  6.87             nan   \n",
       "3                0.62  ...        nan  2.97             nan   \n",
       "4                0.54  ...        nan  7.74             nan   \n",
       "\n",
       "  Optional Insurance Consecutive Trips Promotion Share Adjustment  \\\n",
       "0                nan                         nan              nan   \n",
       "1                nan                         nan              nan   \n",
       "2                nan                         nan              nan   \n",
       "3                nan                         nan              nan   \n",
       "4                nan                         nan              nan   \n",
       "\n",
       "  Quest Promotion Fare Adjustment Platinum Reward Cleaning Repairs  \n",
       "0             nan             nan             nan              nan  \n",
       "1             nan             nan             nan              nan  \n",
       "2             nan             nan             nan              nan  \n",
       "3             nan             nan             nan              nan  \n",
       "4             nan             nan             nan              nan  \n",
       "\n",
       "[5 rows x 25 columns]"
      ]
     },
     "execution_count": 62,
     "metadata": {},
     "output_type": "execute_result"
    }
   ],
   "source": [
    "df.head()"
   ]
  },
  {
   "cell_type": "code",
   "execution_count": 63,
   "metadata": {},
   "outputs": [],
   "source": [
    "df[\"Total\"] = df.Total.astype(float)\n",
    "df[\"Base Fare\"] = df[\"Base Fare\"].astype(float)\n",
    "df[\"Distance\"] = df.Distance.astype(float)\n",
    "df[\"Time\"] = df.Time.astype(float)\n",
    "df[\"Min Fare Supplement\"] = df[\"Min Fare Supplement\"].astype(float)\n",
    "df[\"Tip\"] = df.Tip.astype(float)\n",
    "df[\"Diamond Reward\"] = df[\"Diamond Reward\"].astype(float)\n",
    "df[\"Wait Time\"] = df[\"Wait Time\"].astype(float)\n",
    "df[\"Long Pickup Fee\"] = df[\"Long Pickup Fee\"].astype(float)\n",
    "df[\"Optional Insurance\"] = df[\"Optional Insurance\"].astype(float)\n",
    "df[\"Consecutive Trips Promotion\"] = df[\"Consecutive Trips Promotion\"].astype(float)\n",
    "df[\"Cancellation\"] = df.Cancellation.astype(float)\n",
    "df[\"Platinum Reward\"] = df[\"Platinum Reward\"].astype(float)\n",
    "df[\"Surge\"] = df.Surge.astype(float)\n",
    "df[\"Fare Adjustment\"] = df[\"Fare Adjustment\"].astype(float)\n",
    "df[\"Share Adjustment\"] = df[\"Share Adjustment\"].astype(float)"
   ]
  },
  {
   "cell_type": "code",
   "execution_count": 64,
   "metadata": {},
   "outputs": [
    {
     "name": "stdout",
     "output_type": "stream",
     "text": [
      "min fare : 0.3\n",
      "max fare : 0.3\n",
      "fare range : 0.0\n",
      "25 % : 0.3\n",
      "70 % : 0.3\n",
      "variance fare: 2.051862146428876e-28\n",
      "sd fare : 1.432432248460246e-14\n"
     ]
    }
   ],
   "source": [
    "print(\"min fare : {0}\".format(df[\"Base Fare\"].min()))\n",
    "print(\"max fare : {0}\".format(df[\"Base Fare\"].max()))\n",
    "print(\"fare range : {0}\".format(df[\"Base Fare\"].max() - df[\"Base Fare\"].min()))\n",
    "print(\"25 % : {0}\".format(df[\"Base Fare\"].quantile(.25)))\n",
    "print(\"70 % : {0}\".format(df[\"Base Fare\"].quantile(.70)))\n",
    "print(\"variance fare: {0}\".format(df[\"Base Fare\"].var()))\n",
    "print(\"sd fare : {0}\".format(df[\"Base Fare\"].std()))"
   ]
  },
  {
   "cell_type": "code",
   "execution_count": 65,
   "metadata": {},
   "outputs": [
    {
     "name": "stdout",
     "output_type": "stream",
     "text": [
      "<class 'pandas.core.frame.DataFrame'>\n",
      "RangeIndex: 3104 entries, 0 to 3103\n",
      "Data columns (total 25 columns):\n",
      "Driver Name                    3104 non-null object\n",
      "Phone Number                   0 non-null float64\n",
      "Email                          3104 non-null object\n",
      "Date/Time                      3104 non-null object\n",
      "Trip ID                        3104 non-null object\n",
      "Type                           3104 non-null object\n",
      "Base Fare                      2929 non-null float64\n",
      "Distance                       2925 non-null float64\n",
      "Time                           2929 non-null float64\n",
      "Min Fare Supplement            787 non-null float64\n",
      "Cancellation                   133 non-null float64\n",
      "Tip                            855 non-null float64\n",
      "Surge                          551 non-null float64\n",
      "Diamond Reward                 1470 non-null float64\n",
      "Wait Time                      576 non-null float64\n",
      "Promotions                     3104 non-null object\n",
      "Total                          3104 non-null float64\n",
      "Long Pickup Fee                26 non-null float64\n",
      "Optional Insurance             476 non-null float64\n",
      "Consecutive Trips Promotion    0 non-null float64\n",
      "Share Adjustment               7 non-null float64\n",
      "Quest Promotion                3104 non-null object\n",
      "Fare Adjustment                4 non-null float64\n",
      "Platinum Reward                432 non-null float64\n",
      "Cleaning Repairs               3104 non-null object\n",
      "dtypes: float64(17), object(8)\n",
      "memory usage: 606.4+ KB\n"
     ]
    }
   ],
   "source": [
    "df.info()"
   ]
  },
  {
   "cell_type": "code",
   "execution_count": 66,
   "metadata": {},
   "outputs": [],
   "source": [
    "df_useful = df.drop(['Phone Number', \"Driver Name\", \"Email\", \"Trip ID\", \"Promotions\", \"Quest Promotion\", \"Cleaning Repairs\"], axis=1)"
   ]
  },
  {
   "cell_type": "code",
   "execution_count": 67,
   "metadata": {},
   "outputs": [
    {
     "name": "stdout",
     "output_type": "stream",
     "text": [
      "<class 'pandas.core.frame.DataFrame'>\n",
      "RangeIndex: 3104 entries, 0 to 3103\n",
      "Data columns (total 18 columns):\n",
      "Date/Time                      3104 non-null object\n",
      "Type                           3104 non-null object\n",
      "Base Fare                      2929 non-null float64\n",
      "Distance                       2925 non-null float64\n",
      "Time                           2929 non-null float64\n",
      "Min Fare Supplement            787 non-null float64\n",
      "Cancellation                   133 non-null float64\n",
      "Tip                            855 non-null float64\n",
      "Surge                          551 non-null float64\n",
      "Diamond Reward                 1470 non-null float64\n",
      "Wait Time                      576 non-null float64\n",
      "Total                          3104 non-null float64\n",
      "Long Pickup Fee                26 non-null float64\n",
      "Optional Insurance             476 non-null float64\n",
      "Consecutive Trips Promotion    0 non-null float64\n",
      "Share Adjustment               7 non-null float64\n",
      "Fare Adjustment                4 non-null float64\n",
      "Platinum Reward                432 non-null float64\n",
      "dtypes: float64(16), object(2)\n",
      "memory usage: 436.6+ KB\n"
     ]
    }
   ],
   "source": [
    "df_useful.info()"
   ]
  },
  {
   "cell_type": "code",
   "execution_count": 68,
   "metadata": {},
   "outputs": [],
   "source": [
    "#df_useful.plot()"
   ]
  },
  {
   "cell_type": "code",
   "execution_count": 69,
   "metadata": {
    "scrolled": true
   },
   "outputs": [
    {
     "data": {
      "text/plain": [
       "Text(0.5, 0, 'Time')"
      ]
     },
     "execution_count": 69,
     "metadata": {},
     "output_type": "execute_result"
    },
    {
     "data": {
      "image/png": "[encoded data removed]",
      "text/plain": [
       "<Figure size 432x288 with 1 Axes>"
      ]
     },
     "metadata": {
      "needs_background": "light"
     },
     "output_type": "display_data"
    }
   ],
   "source": [
    "plt.scatter(df_useful.Time,df_useful.Total);\n",
    "plt.ylabel('Total Amount')\n",
    "plt.xlabel('Time')"
   ]
  },
  {
   "cell_type": "code",
   "execution_count": 70,
   "metadata": {},
   "outputs": [
    {
     "data": {
      "text/plain": [
       "Text(0.5, 0, 'Total Amount')"
      ]
     },
     "execution_count": 70,
     "metadata": {},
     "output_type": "execute_result"
    },
    {
     "data": {
      "image/png": "[encoded data removed]",
      "text/plain": [
       "<Figure size 432x288 with 1 Axes>"
      ]
     },
     "metadata": {
      "needs_background": "light"
     },
     "output_type": "display_data"
    }
   ],
   "source": [
    "plt.scatter(df_useful.Total,df_useful.Distance);\n",
    "plt.ylabel('Distance')\n",
    "plt.xlabel('Total Amount')"
   ]
  },
  {
   "cell_type": "code",
   "execution_count": 71,
   "metadata": {},
   "outputs": [
    {
     "data": {
      "text/plain": [
       "Text(0.5, 0, 'Distance')"
      ]
     },
     "execution_count": 71,
     "metadata": {},
     "output_type": "execute_result"
    },
    {
     "data": {
      "image/png": "[encoded data removed]",
      "text/plain": [
       "<Figure size 432x288 with 1 Axes>"
      ]
     },
     "metadata": {
      "needs_background": "light"
     },
     "output_type": "display_data"
    }
   ],
   "source": [
    "plt.scatter(df_useful.Distance, df_useful.Time);\n",
    "plt.ylabel('Time')\n",
    "plt.xlabel('Distance')"
   ]
  },
  {
   "cell_type": "code",
   "execution_count": 72,
   "metadata": {},
   "outputs": [],
   "source": [
    "df_useful = df_useful.drop(\"Date/Time\", axis =1)"
   ]
  },
  {
   "cell_type": "code",
   "execution_count": 73,
   "metadata": {},
   "outputs": [],
   "source": [
    "from sklearn.model_selection import train_test_split\n",
    "from sklearn.linear_model import LinearRegression"
   ]
  },
  {
   "cell_type": "code",
   "execution_count": 74,
   "metadata": {},
   "outputs": [],
   "source": [
    "from sklearn.preprocessing import LabelEncoder\n",
    "from sklearn.metrics import mean_squared_error, r2_score\n"
   ]
  },
  {
   "cell_type": "code",
   "execution_count": 75,
   "metadata": {},
   "outputs": [],
   "source": [
    "le = LabelEncoder()\n",
    "df_useful['Type'] = le.fit_transform(df_useful['Type'])"
   ]
  },
  {
   "cell_type": "code",
   "execution_count": 76,
   "metadata": {},
   "outputs": [
    {
     "data": {
      "text/html": [
       "<div>\n",
       "<style scoped>\n",
       "    .dataframe tbody tr th:only-of-type {\n",
       "        vertical-align: middle;\n",
       "    }\n",
       "\n",
       "    .dataframe tbody tr th {\n",
       "        vertical-align: top;\n",
       "    }\n",
       "\n",
       "    .dataframe thead th {\n",
       "        text-align: right;\n",
       "    }\n",
       "</style>\n",
       "<table border=\"1\" class=\"dataframe\">\n",
       "  <thead>\n",
       "    <tr style=\"text-align: right;\">\n",
       "      <th></th>\n",
       "      <th>Type</th>\n",
       "      <th>Base Fare</th>\n",
       "      <th>Distance</th>\n",
       "      <th>Time</th>\n",
       "      <th>Min Fare Supplement</th>\n",
       "      <th>Cancellation</th>\n",
       "      <th>Tip</th>\n",
       "      <th>Surge</th>\n",
       "      <th>Diamond Reward</th>\n",
       "      <th>Wait Time</th>\n",
       "      <th>Total</th>\n",
       "      <th>Long Pickup Fee</th>\n",
       "      <th>Optional Insurance</th>\n",
       "      <th>Consecutive Trips Promotion</th>\n",
       "      <th>Share Adjustment</th>\n",
       "      <th>Fare Adjustment</th>\n",
       "      <th>Platinum Reward</th>\n",
       "    </tr>\n",
       "  </thead>\n",
       "  <tbody>\n",
       "    <tr>\n",
       "      <td>0</td>\n",
       "      <td>0</td>\n",
       "      <td>0.3</td>\n",
       "      <td>0.97</td>\n",
       "      <td>0.68</td>\n",
       "      <td>0.68</td>\n",
       "      <td>0.0</td>\n",
       "      <td>0.0</td>\n",
       "      <td>0.00</td>\n",
       "      <td>0.10</td>\n",
       "      <td>0.00</td>\n",
       "      <td>2.73</td>\n",
       "      <td>0.0</td>\n",
       "      <td>0.0</td>\n",
       "      <td>0.0</td>\n",
       "      <td>0.0</td>\n",
       "      <td>0.0</td>\n",
       "      <td>0.0</td>\n",
       "    </tr>\n",
       "    <tr>\n",
       "      <td>1</td>\n",
       "      <td>0</td>\n",
       "      <td>0.3</td>\n",
       "      <td>4.10</td>\n",
       "      <td>2.09</td>\n",
       "      <td>0.00</td>\n",
       "      <td>0.0</td>\n",
       "      <td>3.0</td>\n",
       "      <td>0.00</td>\n",
       "      <td>0.37</td>\n",
       "      <td>0.00</td>\n",
       "      <td>9.86</td>\n",
       "      <td>0.0</td>\n",
       "      <td>0.0</td>\n",
       "      <td>0.0</td>\n",
       "      <td>0.0</td>\n",
       "      <td>0.0</td>\n",
       "      <td>0.0</td>\n",
       "    </tr>\n",
       "    <tr>\n",
       "      <td>2</td>\n",
       "      <td>0</td>\n",
       "      <td>0.3</td>\n",
       "      <td>4.40</td>\n",
       "      <td>1.79</td>\n",
       "      <td>0.00</td>\n",
       "      <td>0.0</td>\n",
       "      <td>0.0</td>\n",
       "      <td>0.00</td>\n",
       "      <td>0.38</td>\n",
       "      <td>0.00</td>\n",
       "      <td>6.87</td>\n",
       "      <td>0.0</td>\n",
       "      <td>0.0</td>\n",
       "      <td>0.0</td>\n",
       "      <td>0.0</td>\n",
       "      <td>0.0</td>\n",
       "      <td>0.0</td>\n",
       "    </tr>\n",
       "    <tr>\n",
       "      <td>3</td>\n",
       "      <td>0</td>\n",
       "      <td>0.3</td>\n",
       "      <td>1.11</td>\n",
       "      <td>0.60</td>\n",
       "      <td>0.62</td>\n",
       "      <td>0.0</td>\n",
       "      <td>0.0</td>\n",
       "      <td>0.00</td>\n",
       "      <td>0.11</td>\n",
       "      <td>0.23</td>\n",
       "      <td>2.97</td>\n",
       "      <td>0.0</td>\n",
       "      <td>0.0</td>\n",
       "      <td>0.0</td>\n",
       "      <td>0.0</td>\n",
       "      <td>0.0</td>\n",
       "      <td>0.0</td>\n",
       "    </tr>\n",
       "    <tr>\n",
       "      <td>4</td>\n",
       "      <td>0</td>\n",
       "      <td>0.3</td>\n",
       "      <td>1.10</td>\n",
       "      <td>0.69</td>\n",
       "      <td>0.54</td>\n",
       "      <td>0.0</td>\n",
       "      <td>5.0</td>\n",
       "      <td>0.00</td>\n",
       "      <td>0.11</td>\n",
       "      <td>0.00</td>\n",
       "      <td>7.74</td>\n",
       "      <td>0.0</td>\n",
       "      <td>0.0</td>\n",
       "      <td>0.0</td>\n",
       "      <td>0.0</td>\n",
       "      <td>0.0</td>\n",
       "      <td>0.0</td>\n",
       "    </tr>\n",
       "    <tr>\n",
       "      <td>...</td>\n",
       "      <td>...</td>\n",
       "      <td>...</td>\n",
       "      <td>...</td>\n",
       "      <td>...</td>\n",
       "      <td>...</td>\n",
       "      <td>...</td>\n",
       "      <td>...</td>\n",
       "      <td>...</td>\n",
       "      <td>...</td>\n",
       "      <td>...</td>\n",
       "      <td>...</td>\n",
       "      <td>...</td>\n",
       "      <td>...</td>\n",
       "      <td>...</td>\n",
       "      <td>...</td>\n",
       "      <td>...</td>\n",
       "      <td>...</td>\n",
       "    </tr>\n",
       "    <tr>\n",
       "      <td>3099</td>\n",
       "      <td>0</td>\n",
       "      <td>0.3</td>\n",
       "      <td>10.95</td>\n",
       "      <td>1.24</td>\n",
       "      <td>0.00</td>\n",
       "      <td>0.0</td>\n",
       "      <td>0.0</td>\n",
       "      <td>0.00</td>\n",
       "      <td>0.00</td>\n",
       "      <td>0.00</td>\n",
       "      <td>12.49</td>\n",
       "      <td>0.0</td>\n",
       "      <td>0.0</td>\n",
       "      <td>0.0</td>\n",
       "      <td>0.0</td>\n",
       "      <td>0.0</td>\n",
       "      <td>0.0</td>\n",
       "    </tr>\n",
       "    <tr>\n",
       "      <td>3100</td>\n",
       "      <td>0</td>\n",
       "      <td>0.3</td>\n",
       "      <td>0.92</td>\n",
       "      <td>0.39</td>\n",
       "      <td>1.01</td>\n",
       "      <td>0.0</td>\n",
       "      <td>1.0</td>\n",
       "      <td>3.25</td>\n",
       "      <td>0.00</td>\n",
       "      <td>0.00</td>\n",
       "      <td>6.87</td>\n",
       "      <td>0.0</td>\n",
       "      <td>0.0</td>\n",
       "      <td>0.0</td>\n",
       "      <td>0.0</td>\n",
       "      <td>0.0</td>\n",
       "      <td>0.0</td>\n",
       "    </tr>\n",
       "    <tr>\n",
       "      <td>3101</td>\n",
       "      <td>0</td>\n",
       "      <td>0.3</td>\n",
       "      <td>17.39</td>\n",
       "      <td>1.95</td>\n",
       "      <td>0.00</td>\n",
       "      <td>0.0</td>\n",
       "      <td>0.0</td>\n",
       "      <td>3.25</td>\n",
       "      <td>0.00</td>\n",
       "      <td>0.00</td>\n",
       "      <td>22.89</td>\n",
       "      <td>0.0</td>\n",
       "      <td>0.0</td>\n",
       "      <td>0.0</td>\n",
       "      <td>0.0</td>\n",
       "      <td>0.0</td>\n",
       "      <td>0.0</td>\n",
       "    </tr>\n",
       "    <tr>\n",
       "      <td>3102</td>\n",
       "      <td>0</td>\n",
       "      <td>0.3</td>\n",
       "      <td>0.36</td>\n",
       "      <td>0.21</td>\n",
       "      <td>1.76</td>\n",
       "      <td>0.0</td>\n",
       "      <td>0.0</td>\n",
       "      <td>0.00</td>\n",
       "      <td>0.00</td>\n",
       "      <td>0.34</td>\n",
       "      <td>2.97</td>\n",
       "      <td>0.0</td>\n",
       "      <td>0.0</td>\n",
       "      <td>0.0</td>\n",
       "      <td>0.0</td>\n",
       "      <td>0.0</td>\n",
       "      <td>0.0</td>\n",
       "    </tr>\n",
       "    <tr>\n",
       "      <td>3103</td>\n",
       "      <td>0</td>\n",
       "      <td>0.3</td>\n",
       "      <td>4.46</td>\n",
       "      <td>0.92</td>\n",
       "      <td>0.00</td>\n",
       "      <td>0.0</td>\n",
       "      <td>0.0</td>\n",
       "      <td>0.00</td>\n",
       "      <td>0.00</td>\n",
       "      <td>0.00</td>\n",
       "      <td>5.68</td>\n",
       "      <td>0.0</td>\n",
       "      <td>0.0</td>\n",
       "      <td>0.0</td>\n",
       "      <td>0.0</td>\n",
       "      <td>0.0</td>\n",
       "      <td>0.0</td>\n",
       "    </tr>\n",
       "  </tbody>\n",
       "</table>\n",
       "<p>3104 rows × 17 columns</p>\n",
       "</div>"
      ],
      "text/plain": [
       "      Type  Base Fare  Distance  Time  Min Fare Supplement  Cancellation  Tip  \\\n",
       "0        0        0.3      0.97  0.68                 0.68           0.0  0.0   \n",
       "1        0        0.3      4.10  2.09                 0.00           0.0  3.0   \n",
       "2        0        0.3      4.40  1.79                 0.00           0.0  0.0   \n",
       "3        0        0.3      1.11  0.60                 0.62           0.0  0.0   \n",
       "4        0        0.3      1.10  0.69                 0.54           0.0  5.0   \n",
       "...    ...        ...       ...   ...                  ...           ...  ...   \n",
       "3099     0        0.3     10.95  1.24                 0.00           0.0  0.0   \n",
       "3100     0        0.3      0.92  0.39                 1.01           0.0  1.0   \n",
       "3101     0        0.3     17.39  1.95                 0.00           0.0  0.0   \n",
       "3102     0        0.3      0.36  0.21                 1.76           0.0  0.0   \n",
       "3103     0        0.3      4.46  0.92                 0.00           0.0  0.0   \n",
       "\n",
       "      Surge  Diamond Reward  Wait Time  Total  Long Pickup Fee  \\\n",
       "0      0.00            0.10       0.00   2.73              0.0   \n",
       "1      0.00            0.37       0.00   9.86              0.0   \n",
       "2      0.00            0.38       0.00   6.87              0.0   \n",
       "3      0.00            0.11       0.23   2.97              0.0   \n",
       "4      0.00            0.11       0.00   7.74              0.0   \n",
       "...     ...             ...        ...    ...              ...   \n",
       "3099   0.00            0.00       0.00  12.49              0.0   \n",
       "3100   3.25            0.00       0.00   6.87              0.0   \n",
       "3101   3.25            0.00       0.00  22.89              0.0   \n",
       "3102   0.00            0.00       0.34   2.97              0.0   \n",
       "3103   0.00            0.00       0.00   5.68              0.0   \n",
       "\n",
       "      Optional Insurance  Consecutive Trips Promotion  Share Adjustment  \\\n",
       "0                    0.0                          0.0               0.0   \n",
       "1                    0.0                          0.0               0.0   \n",
       "2                    0.0                          0.0               0.0   \n",
       "3                    0.0                          0.0               0.0   \n",
       "4                    0.0                          0.0               0.0   \n",
       "...                  ...                          ...               ...   \n",
       "3099                 0.0                          0.0               0.0   \n",
       "3100                 0.0                          0.0               0.0   \n",
       "3101                 0.0                          0.0               0.0   \n",
       "3102                 0.0                          0.0               0.0   \n",
       "3103                 0.0                          0.0               0.0   \n",
       "\n",
       "      Fare Adjustment  Platinum Reward  \n",
       "0                 0.0              0.0  \n",
       "1                 0.0              0.0  \n",
       "2                 0.0              0.0  \n",
       "3                 0.0              0.0  \n",
       "4                 0.0              0.0  \n",
       "...               ...              ...  \n",
       "3099              0.0              0.0  \n",
       "3100              0.0              0.0  \n",
       "3101              0.0              0.0  \n",
       "3102              0.0              0.0  \n",
       "3103              0.0              0.0  \n",
       "\n",
       "[3104 rows x 17 columns]"
      ]
     },
     "execution_count": 76,
     "metadata": {},
     "output_type": "execute_result"
    }
   ],
   "source": [
    "df_useful.fillna(0)"
   ]
  },
  {
   "cell_type": "code",
   "execution_count": null,
   "metadata": {},
   "outputs": [],
   "source": []
  },
  {
   "cell_type": "code",
   "execution_count": 77,
   "metadata": {},
   "outputs": [],
   "source": [
    "labels = df_useful[\"Total\"]\n",
    "features = df_useful.loc[:, df_useful.columns != 'Total']\n",
    "#features = features.loc[:, features != \"Date/Time\"]"
   ]
  },
  {
   "cell_type": "code",
   "execution_count": 78,
   "metadata": {},
   "outputs": [],
   "source": [
    "features = features.fillna(0)\n",
    "labels = labels.fillna(0)"
   ]
  },
  {
   "cell_type": "code",
   "execution_count": 79,
   "metadata": {},
   "outputs": [],
   "source": [
    "X_train, X_test, y_train, y_test = train_test_split(features, labels, random_state=42, \n",
    "                                                    train_size=0.8, test_size=0.2)"
   ]
  },
  {
   "cell_type": "code",
   "execution_count": 80,
   "metadata": {},
   "outputs": [
    {
     "data": {
      "text/plain": [
       "LinearRegression(copy_X=True, fit_intercept=True, n_jobs=None, normalize=False)"
      ]
     },
     "execution_count": 80,
     "metadata": {},
     "output_type": "execute_result"
    }
   ],
   "source": [
    "regressor = LinearRegression()  \n",
    "regressor.fit(X_train, y_train) #training the algorithm"
   ]
  },
  {
   "cell_type": "code",
   "execution_count": 91,
   "metadata": {},
   "outputs": [],
   "source": [
    "y_pred = regressor.predict(X_test)"
   ]
  },
  {
   "cell_type": "code",
   "execution_count": 92,
   "metadata": {},
   "outputs": [
    {
     "name": "stdout",
     "output_type": "stream",
     "text": [
      "[ 5.99567578 15.09966506  7.46517103  5.42873956  4.78706357  5.13757616\n",
      "  2.64827803 11.46121281  3.68738363  2.57106225  3.54512549  6.00649368\n",
      " 20.19161976  2.74504428  2.858463    5.12631107 15.28785321  4.43732802\n",
      " 18.68620027  6.5246446   5.0661669   4.86665079  7.94586318  2.62405906\n",
      "  2.54226309  6.31541719  4.67883219  2.61137072  3.75092501  2.91798788\n",
      " 12.69376086  2.61831249  2.61868412  4.08743888  4.72664689  7.07426044\n",
      "  2.8376423   6.9644435   2.74897952 21.08635387  3.75092501  5.97601313\n",
      " 10.8097145  12.30353058  3.75092501  4.14708833  3.80051195  3.52746931\n",
      "  4.03781374 15.88008849  4.46731956  2.62036371  2.54727093  3.61936749\n",
      "  2.55465624  2.531575    8.17639514 23.96651074  7.64966593  7.03834272\n",
      " 15.93668665  3.63746983 17.83641365  3.70472474  2.77552777  3.75092501\n",
      "  3.75092501  5.68615742  8.45425532  2.56319499  3.71743005 10.0222512\n",
      "  6.40702449  3.28813678  4.28668394 11.15157677  4.4202984   9.18315999\n",
      " 13.920216   12.17879366  4.71686221  2.97543566  4.56764449 13.00982489\n",
      "  3.5410111   5.66585478 16.04818006 20.72433279  2.6962027   3.91678227\n",
      "  9.9155238   3.80707768  2.75134085 14.88932729  2.98857699  6.22178995\n",
      "  6.83962458  6.54507689  8.11728665  6.4754063   2.62519838  4.76669385\n",
      "  8.34120642  4.56543692  3.91754013  7.43414058  2.9450242   4.08710724\n",
      "  8.00474037 13.1905077   7.30366692  9.35565735  8.50736519  5.2264738\n",
      "  3.37777386 14.43040626  2.77000658  2.64549625  3.79712221  3.75092501\n",
      "  3.5277622   3.17748323 11.96095699 14.20848176 17.79589625  3.7183679\n",
      "  3.09085589  9.71492174  8.82298272  2.88823667  4.55662681 12.82885091\n",
      "  6.24542814  7.63168888 12.23063344  5.76541335  2.71789437 10.21430784\n",
      "  5.3762479   9.41284549  6.95409932  5.7459588   9.00890517  3.69765539\n",
      "  4.67679003  4.24754074  3.75092501 10.64153535  3.52741544  2.71011276\n",
      "  3.75092501  3.29792286 11.13942682 14.19748713  3.24805783  4.1668222\n",
      "  2.73310871  6.93420394  2.79838678  4.56691092  9.78248458  2.61440104\n",
      "  3.90715394  8.14529733 17.5060729   8.21830664  2.79037706  3.32769074\n",
      "  4.95026895  9.03433666  7.3372033   5.99561862 18.515182    6.5263171\n",
      "  7.63415579  4.08232684 11.60740767  2.86835133  8.33728843  9.66997524\n",
      " 11.33512994 19.16640383  4.84443381  2.69681149 11.60112689  4.21737539\n",
      " 11.1522215  11.10243877  2.77639297  4.29648229 20.92370757  2.93867868\n",
      " 18.04960411  6.97445243  7.37519666  2.54640377  5.76560247  3.76704834\n",
      "  2.59912294  3.50763925  8.44499472  3.22803996 13.10163508  2.77369685\n",
      "  4.96643684 19.79470495  5.15691233  2.95296737  5.42090546 10.46971284\n",
      "  4.07818755  3.91678227  7.58393981  4.39705444  6.27882012  3.75092501\n",
      "  6.02541679  2.57355646 13.5440477   6.5152134  21.80809647  6.12671455\n",
      " 17.86827798 13.67301841  6.05621633  6.70778825  3.07823495  4.92683753\n",
      "  3.28595441 11.08113429  3.91678227  7.81412588  6.42623635  5.71579993\n",
      "  6.85457255  7.21452837  4.57414985  3.18783274  8.20304592 13.85801272\n",
      "  4.51650744  3.79161305  7.19521621 21.10308744  3.75092501  4.04785003\n",
      "  2.66311472  2.6988097   2.68831316 12.49076911  8.37249263  2.65648992\n",
      "  6.76534224  4.62086975  9.67457284 11.93025664  7.30452124  8.05320016\n",
      "  3.8572839   7.19832111 14.57812251  3.75092501 12.52962246  8.74358084\n",
      "  4.3369001  12.7607324   5.09703532 18.49659346  4.98627804  9.19242612\n",
      "  5.17821593 14.14295252  2.75638902  3.55466004  3.75092501 17.84794444\n",
      "  5.68477864 16.54897857 10.12477346  8.08433345 11.78282918  9.30700356\n",
      " 12.76024531  6.87910888 12.71012715  2.67801779  2.59322589  5.52614201\n",
      "  4.0368336   4.76184905  9.51258371 18.23492016  7.59372392  4.86263253\n",
      "  6.59557625 13.14144218  2.72522128 12.30524325 11.63145996  3.63790363\n",
      "  4.23878891 17.14910236 10.60288003  7.98076521 19.71470752  2.55470845\n",
      " 10.49211216  2.68136239  7.19495068 13.45371588  5.40593681  2.71821668\n",
      "  7.56470573  6.51735732  4.7131775   6.32228438  4.67656153  4.03775562\n",
      "  7.74406665  4.38709992  2.6206978   4.45693561  5.49684004  7.15514111\n",
      "  7.40489694  3.37787185 10.90889275  7.85516066  5.10797553  6.28869175\n",
      " 18.60662083  3.03653794  6.52522233  2.5544099   2.61278599  7.17408358\n",
      " 20.55321353 12.60144994  6.70530203  2.68020603  8.64307791 13.13018902\n",
      " 56.27494564  2.64407062  6.34521666  6.04488839  6.94461344  6.93446524\n",
      "  2.69417776  6.63465232 17.15528156 14.18117691 20.22450179 17.88715166\n",
      "  3.75092501  4.18738098  8.79406741  2.95786031  4.64616713  9.75691314\n",
      "  2.83436574  5.54545102  5.97102445 11.98056261  3.72332755  5.36528827\n",
      "  1.09182474  4.76623019  2.54274505  2.70835348  4.66930175  5.18670497\n",
      "  6.82524361  6.45639337  5.4752955   2.59040102  5.96653713  5.61122876\n",
      "  3.40798848 17.16700607  5.82541774  3.76737497  3.75092501  5.56212711\n",
      "  5.23583998  3.56764409 19.69479525  4.0375167   5.15655568  2.66100683\n",
      " 16.35635098  6.55355987  3.08762199 13.50956511  2.65967134  5.27595666\n",
      "  7.37717751  2.67475503  2.70935403  5.73595909  7.12429554 11.04330798\n",
      "  6.12562175  6.19543932  4.93601289 30.64489499  2.64849775  3.75092501\n",
      " 20.99219964  5.02894474  2.72564749  3.75092501 21.08403316  7.51392229\n",
      "  2.60023657  7.67414879  5.63238775 10.46163297  4.05701089 10.6024593\n",
      " 10.99160284  3.00839606 17.30621823  7.7954054   3.75092501  6.38733563\n",
      "  5.48595929  6.98311644  2.60428814 15.36443585  6.98523959  3.56891637\n",
      "  3.75092501  2.58581878  6.12768289  3.69212072 16.08956711  9.67044033\n",
      "  6.50601471  2.63780859 16.53825297 10.98583752  3.49758841  2.58707293\n",
      "  2.7083589   8.13751229  6.49465107 12.99175633  4.22246623 10.38338531\n",
      "  3.74420713 13.49003397  2.09134031  2.64102868  4.09870033 15.79564429\n",
      "  8.39393872 13.87974562  5.55549093  2.87829494  2.62581292  9.37366089\n",
      "  9.21337911  7.22788816  3.18749672  7.68432442  6.09502982 19.7957975\n",
      "  3.59739263  4.21748633  4.51757435 15.35207686  8.54380679  3.56752138\n",
      "  4.46717517  7.35408416 10.61185956  3.40762473  5.61485222 15.93599934\n",
      " 21.83272168  2.67852566  8.93293532  3.0083879   7.94911836 13.67089585\n",
      "  3.52816163  8.06686057  9.39367741  2.66051528  4.63676246 10.7162488\n",
      "  4.80533423  2.70829836  3.66440866  5.23776397  9.24330709 29.48852273\n",
      "  5.41642752  5.15645522  9.75274682  3.75092501  6.52851635 12.66256091\n",
      "  5.27434176  8.83261075  2.89888211 10.35395366 12.08171434  5.16095767\n",
      "  8.40372357  2.09134031  4.61687771  2.73170885  2.67174701  2.67812253\n",
      "  2.94799774  6.77012661 18.35446644  2.67664453 24.30253872  5.40605929\n",
      "  2.55648581  4.71571847 17.78153843  2.70811116  2.69377459  3.59966233\n",
      " 10.37396967  3.08739033  7.11874563  4.29705217  3.58650685  2.79834407\n",
      " 16.39587516 14.10814682  2.76768719  2.59771766 62.47366484 22.18423586\n",
      "  3.30796446  8.65627264 21.84280411  5.08222936  7.25329745 18.58617811\n",
      "  2.764671    2.72841054 15.46693989  2.60983513 12.88350758  5.27610242\n",
      "  5.31046626  3.89748296  9.32714826  4.44648394  4.23694957  3.12789665\n",
      "  5.80681135 10.98123046 21.71460425  4.54711497  5.6067211  13.67941617\n",
      "  3.75092501  6.19550466  6.66717884  7.69469728 12.4299397   4.92770851\n",
      "  2.84833347 10.22190043 14.20020048  3.19500705  2.62646887  2.77291791\n",
      "  7.41441101  9.56745745 27.52535333  7.35317808 16.81718233  2.97814062\n",
      "  3.64765372  9.21237866  4.20834407  3.75092501  2.69234736  3.75092501\n",
      "  6.96517403  4.58651031  6.16823798  2.53644142 12.52037269  1.09182474\n",
      "  5.4263736   7.84429842  5.49600089  3.45717129  7.10471557 21.55290169\n",
      "  4.37745513  1.17419624  9.27209565  2.68836026  8.29333853  7.42404885\n",
      " 16.70709424 11.01166555  2.77622966  3.75092501  6.08571496 13.2002155\n",
      "  6.35517894  4.76646577  2.09134031  3.63001868  3.91678227  3.75092501\n",
      " 16.75592464  2.66620501 18.94451284]\n"
     ]
    }
   ],
   "source": [
    "print(y_pred)"
   ]
  },
  {
   "cell_type": "code",
   "execution_count": null,
   "metadata": {},
   "outputs": [],
   "source": []
  },
  {
   "cell_type": "code",
   "execution_count": 82,
   "metadata": {},
   "outputs": [
    {
     "name": "stdout",
     "output_type": "stream",
     "text": [
      "Coefficients: \n",
      " [ 0.00000000e+00  7.28297103e-01  9.99260326e-01  9.98443752e-01\n",
      "  9.57455157e-01  9.75630895e-01  9.99515578e-01  1.00109798e+00\n",
      "  1.00020700e+00  1.00185168e+00  9.96996415e-01 -9.99321550e-01\n",
      "  4.99600361e-16  9.99923788e-01  5.46407617e-01  9.98639966e-01]\n",
      "Mean squared error: 0.00\n",
      "Coefficient of determination: 1.00\n"
     ]
    }
   ],
   "source": [
    "print('Coefficients: \\n', regressor.coef_)\n",
    "# The mean squared error\n",
    "print('Mean squared error: %.2f'\n",
    "      % mean_squared_error(y_test, y_pred))\n",
    "# The coefficient of determination: 1 is perfect prediction\n",
    "print('Coefficient of determination: %.2f'\n",
    "      % r2_score(y_test, y_pred))\n",
    "\n"
   ]
  },
  {
   "cell_type": "code",
   "execution_count": 83,
   "metadata": {},
   "outputs": [
    {
     "data": {
      "text/plain": [
       "(2483, 16)"
      ]
     },
     "execution_count": 83,
     "metadata": {},
     "output_type": "execute_result"
    }
   ],
   "source": [
    "X_train.shape"
   ]
  },
  {
   "cell_type": "code",
   "execution_count": 84,
   "metadata": {},
   "outputs": [
    {
     "data": {
      "text/plain": [
       "(2483,)"
      ]
     },
     "execution_count": 84,
     "metadata": {},
     "output_type": "execute_result"
    }
   ],
   "source": [
    "y_train.shape"
   ]
  },
  {
   "cell_type": "code",
   "execution_count": 85,
   "metadata": {},
   "outputs": [
    {
     "data": {
      "text/plain": [
       "(621, 16)"
      ]
     },
     "execution_count": 85,
     "metadata": {},
     "output_type": "execute_result"
    }
   ],
   "source": [
    "X_test.shape"
   ]
  },
  {
   "cell_type": "code",
   "execution_count": 89,
   "metadata": {},
   "outputs": [
    {
     "data": {
      "text/plain": [
       "(621,)"
      ]
     },
     "execution_count": 89,
     "metadata": {},
     "output_type": "execute_result"
    }
   ],
   "source": [
    "y_test.shape"
   ]
  },
  {
   "cell_type": "code",
   "execution_count": 90,
   "metadata": {},
   "outputs": [
    {
     "data": {
      "text/plain": [
       "(621,)"
      ]
     },
     "execution_count": 90,
     "metadata": {},
     "output_type": "execute_result"
    }
   ],
   "source": [
    "y_pred.shape\n"
   ]
  },
  {
   "cell_type": "code",
   "execution_count": 121,
   "metadata": {
    "scrolled": true
   },
   "outputs": [
    {
     "data": {
      "text/plain": [
       "0.9999591630681287"
      ]
     },
     "execution_count": 121,
     "metadata": {},
     "output_type": "execute_result"
    }
   ],
   "source": [
    "regressor.score(X_test, y_test)"
   ]
  },
  {
   "cell_type": "code",
   "execution_count": 123,
   "metadata": {},
   "outputs": [
    {
     "data": {
      "text/plain": [
       "array([0.99998903, 0.99999039, 0.99998606, 0.99999518, 0.99998941,\n",
       "       0.98805149, 0.99997815, 0.99998688, 0.9999103 , 0.99997885,\n",
       "       0.99998758, 0.99719267, 0.99644185, 0.99998616, 0.99999109])"
      ]
     },
     "execution_count": 123,
     "metadata": {},
     "output_type": "execute_result"
    }
   ],
   "source": [
    "from sklearn.model_selection import cross_val_score\n",
    "scores = cross_val_score(regressor, features, labels, cv=15)\n",
    "scores"
   ]
  },
  {
   "cell_type": "code",
   "execution_count": 124,
   "metadata": {},
   "outputs": [
    {
     "name": "stdout",
     "output_type": "stream",
     "text": [
      "Accuracy: 1.00 (+/- 0.01)\n"
     ]
    }
   ],
   "source": [
    "print(\"Accuracy: %0.2f (+/- %0.2f)\" % (scores.mean(), scores.std() * 2))"
   ]
  },
  {
   "cell_type": "code",
   "execution_count": null,
   "metadata": {},
   "outputs": [],
   "source": [
    "\n"
   ]
  },
  {
   "cell_type": "code",
   "execution_count": null,
   "metadata": {},
   "outputs": [],
   "source": []
  },
  {
   "cell_type": "code",
   "execution_count": null,
   "metadata": {},
   "outputs": [],
   "source": []
  },
  {
   "cell_type": "code",
   "execution_count": null,
   "metadata": {},
   "outputs": [],
   "source": []
  },
  {
   "cell_type": "code",
   "execution_count": null,
   "metadata": {},
   "outputs": [],
   "source": []
  },
  {
   "cell_type": "code",
   "execution_count": null,
   "metadata": {},
   "outputs": [],
   "source": []
  }
 ],
 "metadata": {
  "kernelspec": {
   "display_name": "Python 3",
   "language": "python",
   "name": "python3"
  },
  "language_info": {
   "codemirror_mode": {
    "name": "ipython",
    "version": 3
   },
   "file_extension": ".py",
   "mimetype": "text/x-python",
   "name": "python",
   "nbconvert_exporter": "python",
   "pygments_lexer": "ipython3",
   "version": "3.7.4"
  }
 },
 "nbformat": 4,
 "nbformat_minor": 2
}
